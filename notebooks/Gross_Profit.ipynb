{
 "cells": [
  {
   "cell_type": "code",
   "execution_count": 1,
   "id": "84494341",
   "metadata": {},
   "outputs": [],
   "source": [
    "import pandas as pd"
   ]
  },
  {
   "cell_type": "code",
   "execution_count": 2,
   "id": "e7c8ab6a",
   "metadata": {},
   "outputs": [],
   "source": [
    "def get_data(f):\n",
    "    data = pd.read_csv(f)\n",
    "    # data.columns = data.iloc[0]\n",
    "    # data = data.drop(0)\n",
    "    #print(data)\n",
    "    return data"
   ]
  },
  {
   "cell_type": "code",
   "execution_count": 3,
   "id": "c0b0f824",
   "metadata": {},
   "outputs": [],
   "source": [
    "CUSTOMER_ID = 6374\n",
    "balance_df = get_data(\"OfficialData/\" + str(CUSTOMER_ID) +\"/balance.csv\")\n",
    "profit_df = get_data(\"OfficialData/\" + str(CUSTOMER_ID) +\"/profit.csv\")"
   ]
  },
  {
   "cell_type": "code",
   "execution_count": 4,
   "id": "c0fb6aa0",
   "metadata": {},
   "outputs": [
    {
     "data": {
      "text/plain": [
       "Expenses              31366\n",
       "Cost Of Goods Sold     2717\n",
       "Other Expenses         2382\n",
       "Income                 1336\n",
       "Other Income            263\n",
       "Name: account_type, dtype: int64"
      ]
     },
     "execution_count": 4,
     "metadata": {},
     "output_type": "execute_result"
    }
   ],
   "source": [
    "profit_df['account_type'].value_counts()"
   ]
  },
  {
   "cell_type": "code",
   "execution_count": 5,
   "id": "6fae1a3e",
   "metadata": {},
   "outputs": [
    {
     "data": {
      "text/plain": [
       "Professional Services                            1895\n",
       "Salaries and Benefits                            1875\n",
       "General Administrative Expenses                  1494\n",
       "S&M - Contingency (5% of salaries+fixed exp.)    1398\n",
       "R&D - Contingency (5% of salaries+fixed exp.)    1137\n",
       "                                                 ... \n",
       "Utilities                                           7\n",
       "7150 Other Expense Account                          5\n",
       "7365 Insurance                                      5\n",
       "7350 Depreciation Expense                           5\n",
       "7360 Dues & subscriptions                           5\n",
       "Name: account_subtype, Length: 130, dtype: int64"
      ]
     },
     "execution_count": 5,
     "metadata": {},
     "output_type": "execute_result"
    }
   ],
   "source": [
    "profit_df['account_subtype'].value_counts()"
   ]
  },
  {
   "cell_type": "code",
   "execution_count": 6,
   "id": "119cb230",
   "metadata": {},
   "outputs": [],
   "source": [
    "revenue = (profit_df['account_subtype'] == 'Incomes - Net revenues').value_counts()"
   ]
  },
  {
   "cell_type": "code",
   "execution_count": 7,
   "id": "f62d0bcd",
   "metadata": {},
   "outputs": [],
   "source": [
    "def profit_margin(df):\n",
    "    revenue = (df['account_subtype'] == 'Incomes - Net revenues').mean()\n",
    "    #print('YOU ARE HERE')\n",
    "   # print(df['account_subtype'] == 'Incomes - Net revenues')\n",
    "    revenue2 = (df['account_subtype'] == 'Incomes - Contracts revenues').mean()\n",
    "    net_revenue = revenue + revenue2\n",
    "    expenses = (df['account_type'] == 'Cost Of Goods Sold').mean()\n",
    "    if net_revenue == 0:\n",
    "        return 0\n",
    "    return (net_revenue - expenses) / (net_revenue)"
   ]
  },
  {
   "cell_type": "code",
   "execution_count": 8,
   "id": "5428a20c",
   "metadata": {},
   "outputs": [],
   "source": [
    "grouping = profit_df.groupby('period_date')\n",
    "out = pd.DataFrame()\n",
    "out['Profit-Margin'] = grouping.apply(lambda x: profit_margin(x))"
   ]
  },
  {
   "cell_type": "code",
   "execution_count": 9,
   "id": "9eeb009a",
   "metadata": {},
   "outputs": [
    {
     "name": "stdout",
     "output_type": "stream",
     "text": [
      "          id  customer_id  account_id period_date     balance  report_id  \\\n",
      "0      61656         6374         264  2021-08-31  1507329.10      25728   \n",
      "1      61657         6374         264  2021-07-31   800879.31      25728   \n",
      "2      61658         6374         264  2021-06-30   648694.28      25728   \n",
      "3      61659         6374         264  2021-05-31   739824.41      25728   \n",
      "4      61660         6374         264  2021-04-30  1144684.08      25728   \n",
      "...      ...          ...         ...         ...         ...        ...   \n",
      "22471  84127         6374         279  2017-05-31        0.00      14381   \n",
      "22472  84128         6374         279  2017-04-30        0.00      14381   \n",
      "22473  84129         6374         279  2017-03-31        0.00      14381   \n",
      "22474  84130         6374         279  2016-10-31        0.00      14381   \n",
      "22475  84131         6374         279  2014-05-31        0.00      14381   \n",
      "\n",
      "      account_type account_subtype  Year  \n",
      "0           Assets  Current Assets  2021  \n",
      "1           Assets  Current Assets  2021  \n",
      "2           Assets  Current Assets  2021  \n",
      "3           Assets  Current Assets  2021  \n",
      "4           Assets  Current Assets  2021  \n",
      "...            ...             ...   ...  \n",
      "22471       Equity      Net Income  2017  \n",
      "22472       Equity      Net Income  2017  \n",
      "22473       Equity      Net Income  2017  \n",
      "22474       Equity      Net Income  2016  \n",
      "22475       Equity      Net Income  2014  \n",
      "\n",
      "[22476 rows x 9 columns]\n"
     ]
    }
   ],
   "source": [
    "balance_df['Year'] = balance_df['period_date'].apply(lambda x: x.split('-')[0])\n",
    "print(balance_df)"
   ]
  },
  {
   "cell_type": "code",
   "execution_count": 10,
   "id": "d98c5225",
   "metadata": {},
   "outputs": [],
   "source": [
    "# for i in set(balance_df.Year): # for classified by years files\n",
    "#     filename = \"OfficialData/\" + str(CUSTOMER_ID) +\"/balance\" + str(i) + \".csv\"\n",
    "#     balance_df.loc[balance_df.Year == i].to_csv(filename,index=False,columns=balance_df.columns)\n",
    "    \n",
    "# balance_2020_df = get_data(\"OfficialData/\" + str(CUSTOMER_ID) +\"/balance2020.csv\"\n",
    "# balance_2019_df = get_data(\"OfficialData/\" + str(CUSTOMER_ID) +\"/balance2019.csv\""
   ]
  },
  {
   "cell_type": "code",
   "execution_count": null,
   "id": "0e7bbc85",
   "metadata": {},
   "outputs": [],
   "source": []
  },
  {
   "cell_type": "code",
   "execution_count": null,
   "id": "8966704a",
   "metadata": {},
   "outputs": [],
   "source": [
    "def Operating_Cash_Flow(df):\n",
    "    revenue = (df['account_subtype'] == 'Incomes - Net revenues').mean()\n",
    "    revenue2 = (df['account_subtype'] == 'Incomes - Contracts revenues').mean()\n",
    "    net_revenue = revenue+revenue2\n",
    "    depreciation = (df['account_subtype'] == 'Non cash expenses. - Depreciation of fixed assets').mean()\n",
    "    depreciation2 = (df['account_subtype'] == 'Depreciation Expense').mean()\n",
    "    net_depreciation = depreciation + depreciation2\n",
    "    expenses = (df['account_type'] == 'Expenses').mean()\n",
    "    income_tax = (df['account_subtype'] == 'Non cash expenses. - Taxation provision').mean()\n",
    "    \n",
    "    Assets2020 = 0\n",
    "    for i in balance_df.iterrows():\n",
    "        print(balance_df)\n",
    "        print(i)\n",
    "        \n",
    "    #for i in Current_assets\n",
    "    #Current_liabilities =  (balance_df['account_subtype'] == 'Current Liabilities')\n",
    "    \n",
    "    print(Assets2020)\n",
    "#     Current_assets2020 = (Current_assets['Year'] == '2020')\n",
    "#     Current_assets2019 = (balance_df['Year'] == '2019').sum()\n",
    "#     print(Current_assets2020,Current_assets2019)\n",
    "    \n",
    "    "
   ]
  },
  {
   "cell_type": "code",
   "execution_count": null,
   "id": "2eff61e7",
   "metadata": {},
   "outputs": [],
   "source": [
    "Operating_Cash_Flow(profit_df)"
   ]
  },
  {
   "cell_type": "code",
   "execution_count": null,
   "id": "88b6b18c",
   "metadata": {},
   "outputs": [],
   "source": [
    "def burn_rate(df):\n",
    "    "
   ]
  },
  {
   "cell_type": "code",
   "execution_count": null,
   "id": "773c4c52",
   "metadata": {},
   "outputs": [],
   "source": [
    "g2 = balance_df.groupby('period_date')\n",
    "\n",
    "#out['Balance-Margin'] = g2.apply(lambda x: dumb_shit(x))"
   ]
  },
  {
   "cell_type": "code",
   "execution_count": null,
   "id": "374b660b",
   "metadata": {},
   "outputs": [],
   "source": [
    "out"
   ]
  },
  {
   "cell_type": "code",
   "execution_count": null,
   "id": "56714841",
   "metadata": {},
   "outputs": [],
   "source": [
    "profit_df.groupby('period_date').size()"
   ]
  },
  {
   "cell_type": "code",
   "execution_count": null,
   "id": "acf32e73",
   "metadata": {},
   "outputs": [],
   "source": []
  }
 ],
 "metadata": {
  "kernelspec": {
   "display_name": "Python 3 (ipykernel)",
   "language": "python",
   "name": "python3"
  },
  "language_info": {
   "codemirror_mode": {
    "name": "ipython",
    "version": 3
   },
   "file_extension": ".py",
   "mimetype": "text/x-python",
   "name": "python",
   "nbconvert_exporter": "python",
   "pygments_lexer": "ipython3",
   "version": "3.8.10"
  }
 },
 "nbformat": 4,
 "nbformat_minor": 5
}
