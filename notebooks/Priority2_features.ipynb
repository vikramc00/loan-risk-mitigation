{
 "cells": [
  {
   "cell_type": "code",
   "execution_count": 1,
   "id": "862e75c3",
   "metadata": {},
   "outputs": [],
   "source": [
    "import pandas as pd"
   ]
  },
  {
   "cell_type": "code",
   "execution_count": 3,
   "id": "a1eb12f2",
   "metadata": {},
   "outputs": [],
   "source": [
    "customer0 = 4436\n",
    "customer1 = 4522\n",
    "customer2 = 4704\n",
    "customer3 = 6374\n",
    "\n",
    "priority1_year = pd.read_csv(\"../Features/\" + str(customer0) + \"/priority1_year.csv\")\n",
    "priority1_month = pd.read_csv(\"../Features/\" + str(customer0) + \"/priority1_month.csv\")"
   ]
  },
  {
   "cell_type": "code",
   "execution_count": 4,
   "id": "d44b6b87",
   "metadata": {},
   "outputs": [],
   "source": [
    "def acid_test(data, date):\n",
    "    temp = (data[\"current_assets\"] - data[\"inventory\"])/(data[\"current_liabilities\"]\n",
    "    return temp[date]"
   ]
  },
  {
   "cell_type": "code",
   "execution_count": 5,
   "id": "7458e2db",
   "metadata": {},
   "outputs": [],
   "source": [
    "def net_profit_margin(data, date):\n",
    "    temp = (data[\"revenue\"] - data[\"expenses\"]) / data[\"sales\"]\n",
    "    return temp[date]"
   ]
  },
  {
   "cell_type": "code",
   "execution_count": 6,
   "id": "5ddc9d45",
   "metadata": {},
   "outputs": [],
   "source": [
    "def return_on_equity(data, date):\n",
    "    temp = data[\"income\"]/data[\"shareholders_equity\"]\n",
    "    return temp[date]"
   ]
  },
  {
   "cell_type": "code",
   "execution_count": null,
   "id": "26b30814",
   "metadata": {},
   "outputs": [],
   "source": []
  }
 ],
 "metadata": {
  "kernelspec": {
   "display_name": "Python 3 (ipykernel)",
   "language": "python",
   "name": "python3"
  },
  "language_info": {
   "codemirror_mode": {
    "name": "ipython",
    "version": 3
   },
   "file_extension": ".py",
   "mimetype": "text/x-python",
   "name": "python",
   "nbconvert_exporter": "python",
   "pygments_lexer": "ipython3",
   "version": "3.8.10"
  }
 },
 "nbformat": 4,
 "nbformat_minor": 5
}
