{
 "cells": [
  {
   "cell_type": "code",
   "execution_count": 24,
   "id": "right-charlotte",
   "metadata": {},
   "outputs": [],
   "source": [
    "import pandas as pd\n",
    "import matplotlib.pyplot as plt\n",
    "import numpy as np\n",
    "from datetime import datetime\n",
    "from matplotlib import pyplot\n"
   ]
  },
  {
   "cell_type": "code",
   "execution_count": 25,
   "id": "international-style",
   "metadata": {},
   "outputs": [
    {
     "data": {
      "text/html": [
       "<div>\n",
       "<style scoped>\n",
       "    .dataframe tbody tr th:only-of-type {\n",
       "        vertical-align: middle;\n",
       "    }\n",
       "\n",
       "    .dataframe tbody tr th {\n",
       "        vertical-align: top;\n",
       "    }\n",
       "\n",
       "    .dataframe thead th {\n",
       "        text-align: right;\n",
       "    }\n",
       "</style>\n",
       "<table border=\"1\" class=\"dataframe\">\n",
       "  <thead>\n",
       "    <tr style=\"text-align: right;\">\n",
       "      <th></th>\n",
       "      <th>Unnamed: 0</th>\n",
       "      <th>date</th>\n",
       "      <th>current_ratio</th>\n",
       "      <th>debt_to_asset_ratio</th>\n",
       "      <th>acid_test</th>\n",
       "      <th>net_profit_margin</th>\n",
       "    </tr>\n",
       "  </thead>\n",
       "  <tbody>\n",
       "    <tr>\n",
       "      <th>110</th>\n",
       "      <td>110</td>\n",
       "      <td>2021-02-28</td>\n",
       "      <td>0.944756</td>\n",
       "      <td>1.213115</td>\n",
       "      <td>0.818218</td>\n",
       "      <td>-2.408868</td>\n",
       "    </tr>\n",
       "    <tr>\n",
       "      <th>111</th>\n",
       "      <td>111</td>\n",
       "      <td>2021-03-31</td>\n",
       "      <td>0.781696</td>\n",
       "      <td>1.482075</td>\n",
       "      <td>0.478314</td>\n",
       "      <td>-1.528909</td>\n",
       "    </tr>\n",
       "    <tr>\n",
       "      <th>112</th>\n",
       "      <td>112</td>\n",
       "      <td>2021-04-30</td>\n",
       "      <td>0.682183</td>\n",
       "      <td>1.710055</td>\n",
       "      <td>0.453851</td>\n",
       "      <td>-1.508943</td>\n",
       "    </tr>\n",
       "    <tr>\n",
       "      <th>113</th>\n",
       "      <td>113</td>\n",
       "      <td>2021-06-30</td>\n",
       "      <td>0.590121</td>\n",
       "      <td>2.006459</td>\n",
       "      <td>0.426263</td>\n",
       "      <td>-0.984122</td>\n",
       "    </tr>\n",
       "    <tr>\n",
       "      <th>114</th>\n",
       "      <td>114</td>\n",
       "      <td>2021-07-31</td>\n",
       "      <td>0.585377</td>\n",
       "      <td>1.954319</td>\n",
       "      <td>0.345969</td>\n",
       "      <td>-1.047358</td>\n",
       "    </tr>\n",
       "  </tbody>\n",
       "</table>\n",
       "</div>"
      ],
      "text/plain": [
       "     Unnamed: 0        date  current_ratio  debt_to_asset_ratio  acid_test  \\\n",
       "110         110  2021-02-28       0.944756             1.213115   0.818218   \n",
       "111         111  2021-03-31       0.781696             1.482075   0.478314   \n",
       "112         112  2021-04-30       0.682183             1.710055   0.453851   \n",
       "113         113  2021-06-30       0.590121             2.006459   0.426263   \n",
       "114         114  2021-07-31       0.585377             1.954319   0.345969   \n",
       "\n",
       "     net_profit_margin  \n",
       "110          -2.408868  \n",
       "111          -1.528909  \n",
       "112          -1.508943  \n",
       "113          -0.984122  \n",
       "114          -1.047358  "
      ]
     },
     "execution_count": 25,
     "metadata": {},
     "output_type": "execute_result"
    }
   ],
   "source": [
    "cid = 4436\n",
    "df = pd.read_csv(\"../Features/\" + str(cid) + \"/priority2_month.csv\")\n",
    "df2 = pd.read_csv(\"../Features/\" + str(cid) + \"/feature_month.csv\")\n",
    "df.tail(5)"
   ]
  },
  {
   "cell_type": "code",
   "execution_count": 26,
   "id": "monthly-decline",
   "metadata": {},
   "outputs": [],
   "source": [
    "df[\"date\"] = df[\"date\"].apply(lambda x: int(x.replace(\"-\", \"\")))"
   ]
  },
  {
   "cell_type": "code",
   "execution_count": 27,
   "id": "following-danish",
   "metadata": {},
   "outputs": [],
   "source": [
    "df.replace([np.inf, -np.inf], np.nan, inplace=True)\n",
    "df = df.fillna(0)"
   ]
  },
  {
   "cell_type": "code",
   "execution_count": 28,
   "id": "gothic-mongolia",
   "metadata": {},
   "outputs": [],
   "source": [
    "df = df.round(3)"
   ]
  },
  {
   "cell_type": "code",
   "execution_count": null,
   "id": "c3ea972f",
   "metadata": {},
   "outputs": [],
   "source": []
  },
  {
   "cell_type": "code",
   "execution_count": 31,
   "id": "75df0f4e",
   "metadata": {},
   "outputs": [],
   "source": [
    "sir = ['Unnamed: 0']\n",
    "df = df.drop(sir, axis=1)"
   ]
  },
  {
   "cell_type": "code",
   "execution_count": 32,
   "id": "45a1e573",
   "metadata": {},
   "outputs": [
    {
     "data": {
      "text/html": [
       "<div>\n",
       "<style scoped>\n",
       "    .dataframe tbody tr th:only-of-type {\n",
       "        vertical-align: middle;\n",
       "    }\n",
       "\n",
       "    .dataframe tbody tr th {\n",
       "        vertical-align: top;\n",
       "    }\n",
       "\n",
       "    .dataframe thead th {\n",
       "        text-align: right;\n",
       "    }\n",
       "</style>\n",
       "<table border=\"1\" class=\"dataframe\">\n",
       "  <thead>\n",
       "    <tr style=\"text-align: right;\">\n",
       "      <th></th>\n",
       "      <th>date</th>\n",
       "      <th>current_ratio</th>\n",
       "      <th>debt_to_asset_ratio</th>\n",
       "      <th>acid_test</th>\n",
       "      <th>net_profit_margin</th>\n",
       "    </tr>\n",
       "  </thead>\n",
       "  <tbody>\n",
       "    <tr>\n",
       "      <th>0</th>\n",
       "      <td>20120930</td>\n",
       "      <td>0.000</td>\n",
       "      <td>0.000</td>\n",
       "      <td>0.000</td>\n",
       "      <td>0.000</td>\n",
       "    </tr>\n",
       "    <tr>\n",
       "      <th>1</th>\n",
       "      <td>20121031</td>\n",
       "      <td>0.000</td>\n",
       "      <td>0.000</td>\n",
       "      <td>0.000</td>\n",
       "      <td>0.000</td>\n",
       "    </tr>\n",
       "    <tr>\n",
       "      <th>2</th>\n",
       "      <td>20121130</td>\n",
       "      <td>0.000</td>\n",
       "      <td>0.000</td>\n",
       "      <td>0.000</td>\n",
       "      <td>0.000</td>\n",
       "    </tr>\n",
       "    <tr>\n",
       "      <th>3</th>\n",
       "      <td>20121231</td>\n",
       "      <td>0.000</td>\n",
       "      <td>0.000</td>\n",
       "      <td>0.000</td>\n",
       "      <td>0.000</td>\n",
       "    </tr>\n",
       "    <tr>\n",
       "      <th>4</th>\n",
       "      <td>20130131</td>\n",
       "      <td>0.000</td>\n",
       "      <td>0.000</td>\n",
       "      <td>0.000</td>\n",
       "      <td>0.000</td>\n",
       "    </tr>\n",
       "    <tr>\n",
       "      <th>...</th>\n",
       "      <td>...</td>\n",
       "      <td>...</td>\n",
       "      <td>...</td>\n",
       "      <td>...</td>\n",
       "      <td>...</td>\n",
       "    </tr>\n",
       "    <tr>\n",
       "      <th>110</th>\n",
       "      <td>20210228</td>\n",
       "      <td>0.945</td>\n",
       "      <td>1.213</td>\n",
       "      <td>0.818</td>\n",
       "      <td>-2.409</td>\n",
       "    </tr>\n",
       "    <tr>\n",
       "      <th>111</th>\n",
       "      <td>20210331</td>\n",
       "      <td>0.782</td>\n",
       "      <td>1.482</td>\n",
       "      <td>0.478</td>\n",
       "      <td>-1.529</td>\n",
       "    </tr>\n",
       "    <tr>\n",
       "      <th>112</th>\n",
       "      <td>20210430</td>\n",
       "      <td>0.682</td>\n",
       "      <td>1.710</td>\n",
       "      <td>0.454</td>\n",
       "      <td>-1.509</td>\n",
       "    </tr>\n",
       "    <tr>\n",
       "      <th>113</th>\n",
       "      <td>20210630</td>\n",
       "      <td>0.590</td>\n",
       "      <td>2.006</td>\n",
       "      <td>0.426</td>\n",
       "      <td>-0.984</td>\n",
       "    </tr>\n",
       "    <tr>\n",
       "      <th>114</th>\n",
       "      <td>20210731</td>\n",
       "      <td>0.585</td>\n",
       "      <td>1.954</td>\n",
       "      <td>0.346</td>\n",
       "      <td>-1.047</td>\n",
       "    </tr>\n",
       "  </tbody>\n",
       "</table>\n",
       "<p>115 rows × 5 columns</p>\n",
       "</div>"
      ],
      "text/plain": [
       "         date  current_ratio  debt_to_asset_ratio  acid_test  \\\n",
       "0    20120930          0.000                0.000      0.000   \n",
       "1    20121031          0.000                0.000      0.000   \n",
       "2    20121130          0.000                0.000      0.000   \n",
       "3    20121231          0.000                0.000      0.000   \n",
       "4    20130131          0.000                0.000      0.000   \n",
       "..        ...            ...                  ...        ...   \n",
       "110  20210228          0.945                1.213      0.818   \n",
       "111  20210331          0.782                1.482      0.478   \n",
       "112  20210430          0.682                1.710      0.454   \n",
       "113  20210630          0.590                2.006      0.426   \n",
       "114  20210731          0.585                1.954      0.346   \n",
       "\n",
       "     net_profit_margin  \n",
       "0                0.000  \n",
       "1                0.000  \n",
       "2                0.000  \n",
       "3                0.000  \n",
       "4                0.000  \n",
       "..                 ...  \n",
       "110             -2.409  \n",
       "111             -1.529  \n",
       "112             -1.509  \n",
       "113             -0.984  \n",
       "114             -1.047  \n",
       "\n",
       "[115 rows x 5 columns]"
      ]
     },
     "execution_count": 32,
     "metadata": {},
     "output_type": "execute_result"
    }
   ],
   "source": [
    "df"
   ]
  },
  {
   "cell_type": "code",
   "execution_count": 33,
   "id": "under-straight",
   "metadata": {},
   "outputs": [],
   "source": [
    "from sklearn.preprocessing import StandardScaler\n",
    "df=(df-df.mean())/df.std()\n",
    "\n",
    "X = df\n",
    "y = df2.pop('net_revenue')"
   ]
  },
  {
   "cell_type": "code",
   "execution_count": 34,
   "id": "2f9eb9f2",
   "metadata": {},
   "outputs": [
    {
     "data": {
      "text/html": [
       "<div>\n",
       "<style scoped>\n",
       "    .dataframe tbody tr th:only-of-type {\n",
       "        vertical-align: middle;\n",
       "    }\n",
       "\n",
       "    .dataframe tbody tr th {\n",
       "        vertical-align: top;\n",
       "    }\n",
       "\n",
       "    .dataframe thead th {\n",
       "        text-align: right;\n",
       "    }\n",
       "</style>\n",
       "<table border=\"1\" class=\"dataframe\">\n",
       "  <thead>\n",
       "    <tr style=\"text-align: right;\">\n",
       "      <th></th>\n",
       "      <th>date</th>\n",
       "      <th>current_ratio</th>\n",
       "      <th>debt_to_asset_ratio</th>\n",
       "      <th>acid_test</th>\n",
       "      <th>net_profit_margin</th>\n",
       "    </tr>\n",
       "  </thead>\n",
       "  <tbody>\n",
       "    <tr>\n",
       "      <th>0</th>\n",
       "      <td>-1.853971</td>\n",
       "      <td>-0.824702</td>\n",
       "      <td>-0.643445</td>\n",
       "      <td>-0.633378</td>\n",
       "      <td>0.372861</td>\n",
       "    </tr>\n",
       "    <tr>\n",
       "      <th>1</th>\n",
       "      <td>-1.849933</td>\n",
       "      <td>-0.824702</td>\n",
       "      <td>-0.643445</td>\n",
       "      <td>-0.633378</td>\n",
       "      <td>0.372861</td>\n",
       "    </tr>\n",
       "    <tr>\n",
       "      <th>2</th>\n",
       "      <td>-1.845974</td>\n",
       "      <td>-0.824702</td>\n",
       "      <td>-0.643445</td>\n",
       "      <td>-0.633378</td>\n",
       "      <td>0.372861</td>\n",
       "    </tr>\n",
       "    <tr>\n",
       "      <th>3</th>\n",
       "      <td>-1.841935</td>\n",
       "      <td>-0.824702</td>\n",
       "      <td>-0.643445</td>\n",
       "      <td>-0.633378</td>\n",
       "      <td>0.372861</td>\n",
       "    </tr>\n",
       "    <tr>\n",
       "      <th>4</th>\n",
       "      <td>-1.486051</td>\n",
       "      <td>-0.824702</td>\n",
       "      <td>-0.643445</td>\n",
       "      <td>-0.633378</td>\n",
       "      <td>0.372861</td>\n",
       "    </tr>\n",
       "    <tr>\n",
       "      <th>...</th>\n",
       "      <td>...</td>\n",
       "      <td>...</td>\n",
       "      <td>...</td>\n",
       "      <td>...</td>\n",
       "      <td>...</td>\n",
       "    </tr>\n",
       "    <tr>\n",
       "      <th>110</th>\n",
       "      <td>1.716788</td>\n",
       "      <td>0.397139</td>\n",
       "      <td>-0.410795</td>\n",
       "      <td>0.575130</td>\n",
       "      <td>-0.356010</td>\n",
       "    </tr>\n",
       "    <tr>\n",
       "      <th>111</th>\n",
       "      <td>1.720907</td>\n",
       "      <td>0.186388</td>\n",
       "      <td>-0.359202</td>\n",
       "      <td>0.072816</td>\n",
       "      <td>-0.089756</td>\n",
       "    </tr>\n",
       "    <tr>\n",
       "      <th>112</th>\n",
       "      <td>1.724866</td>\n",
       "      <td>0.057092</td>\n",
       "      <td>-0.315472</td>\n",
       "      <td>0.037359</td>\n",
       "      <td>-0.083704</td>\n",
       "    </tr>\n",
       "    <tr>\n",
       "      <th>113</th>\n",
       "      <td>1.732863</td>\n",
       "      <td>-0.061859</td>\n",
       "      <td>-0.258700</td>\n",
       "      <td>-0.004008</td>\n",
       "      <td>0.075140</td>\n",
       "    </tr>\n",
       "    <tr>\n",
       "      <th>114</th>\n",
       "      <td>1.736902</td>\n",
       "      <td>-0.068324</td>\n",
       "      <td>-0.268674</td>\n",
       "      <td>-0.122200</td>\n",
       "      <td>0.056079</td>\n",
       "    </tr>\n",
       "  </tbody>\n",
       "</table>\n",
       "<p>115 rows × 5 columns</p>\n",
       "</div>"
      ],
      "text/plain": [
       "         date  current_ratio  debt_to_asset_ratio  acid_test  \\\n",
       "0   -1.853971      -0.824702            -0.643445  -0.633378   \n",
       "1   -1.849933      -0.824702            -0.643445  -0.633378   \n",
       "2   -1.845974      -0.824702            -0.643445  -0.633378   \n",
       "3   -1.841935      -0.824702            -0.643445  -0.633378   \n",
       "4   -1.486051      -0.824702            -0.643445  -0.633378   \n",
       "..        ...            ...                  ...        ...   \n",
       "110  1.716788       0.397139            -0.410795   0.575130   \n",
       "111  1.720907       0.186388            -0.359202   0.072816   \n",
       "112  1.724866       0.057092            -0.315472   0.037359   \n",
       "113  1.732863      -0.061859            -0.258700  -0.004008   \n",
       "114  1.736902      -0.068324            -0.268674  -0.122200   \n",
       "\n",
       "     net_profit_margin  \n",
       "0             0.372861  \n",
       "1             0.372861  \n",
       "2             0.372861  \n",
       "3             0.372861  \n",
       "4             0.372861  \n",
       "..                 ...  \n",
       "110          -0.356010  \n",
       "111          -0.089756  \n",
       "112          -0.083704  \n",
       "113           0.075140  \n",
       "114           0.056079  \n",
       "\n",
       "[115 rows x 5 columns]"
      ]
     },
     "execution_count": 34,
     "metadata": {},
     "output_type": "execute_result"
    }
   ],
   "source": [
    "df"
   ]
  },
  {
   "cell_type": "code",
   "execution_count": 37,
   "id": "qualified-battlefield",
   "metadata": {},
   "outputs": [
    {
     "name": "stdout",
     "output_type": "stream",
     "text": [
      "Feature:date, Score: -17287.464951797225\n",
      "Feature:current_ratio, Score: 208581.12565488176\n",
      "Feature:debt_to_asset_ratio, Score: 16312.109457720275\n",
      "Feature:acid_test, Score: -192113.62348738222\n",
      "Feature:net_profit_margin, Score: 6868.914702308105\n"
     ]
    }
   ],
   "source": [
    "from sklearn.linear_model import LinearRegression\n",
    "\n",
    "model = LinearRegression()\n",
    "# fit the model\n",
    "model.fit(X, y)\n",
    "# get importance\n",
    "importance = model.coef_\n",
    "# summarize feature importance\n",
    "count = 0\n",
    "for i,v in enumerate(importance):\n",
    "\tprint('Feature:' + str(X.columns[count]) + ', Score: ' + str(v))\n",
    "\tcount += 1\n",
    "# plot feature importance\n",
    "\n",
    "# pyplot.bar([x for x in range(len(importance))], importance)\n"
   ]
  },
  {
   "cell_type": "code",
   "execution_count": 38,
   "id": "7689fe18",
   "metadata": {},
   "outputs": [
    {
     "data": {
      "text/plain": [
       "<AxesSubplot:>"
      ]
     },
     "execution_count": 38,
     "metadata": {},
     "output_type": "execute_result"
    },
    {
     "data": {
      "image/png": "[encoded data removed]",
      "text/plain": [
       "<Figure size 432x288 with 1 Axes>"
      ]
     },
     "metadata": {
      "needs_background": "light"
     },
     "output_type": "display_data"
    }
   ],
   "source": [
    "(pd.Series(model.coef_, index=X.columns)\n",
    "   .plot(kind='barh'))   "
   ]
  },
  {
   "cell_type": "code",
   "execution_count": 42,
   "id": "94928e47",
   "metadata": {},
   "outputs": [],
   "source": [
    "customer0 = 4436\n",
    "customer1 = 4522\n",
    "customer2 = 4704\n",
    "customer3 = 6374\n",
    "list_of_customers = [4436, 4522, 4704, 6374]"
   ]
  },
  {
   "cell_type": "code",
   "execution_count": 50,
   "id": "minus-premises",
   "metadata": {},
   "outputs": [],
   "source": [
    "def feature_importance(cid):\n",
    "    df = pd.read_csv(\"../Features/\" + str(cid) + \"/priority2_month.csv\")\n",
    "    df2 = pd.read_csv(\"../Features/\" + str(cid) + \"/feature_month.csv\")\n",
    "    \n",
    "    df[\"date\"] = df[\"date\"].apply(lambda x: int(x.replace(\"-\", \"\")))\n",
    "    \n",
    "    df.replace([np.inf, -np.inf], np.nan, inplace=True)\n",
    "    df = df.fillna(0)\n",
    "    \n",
    "    df = df.round(3)\n",
    "    \n",
    "    sir = ['Unnamed: 0']\n",
    "    df = df.drop(sir, axis=1)\n",
    "    \n",
    "    df=(df-df.mean())/df.std()\n",
    "    \n",
    "    df = df.fillna(0)\n",
    "\n",
    "    X = df\n",
    "    y = df2.pop('net_revenue')\n",
    "    \n",
    "    model = LinearRegression()\n",
    "    model.fit(X, y)\n",
    "    \n",
    "    importance = model.coef_\n",
    "    \n",
    "    count = 0\n",
    "    print(f\"Company : {cid}\")\n",
    "    \n",
    "    for i,v in enumerate(importance):\n",
    "        print(f'Feature: ' + str(X.columns[count]) + ', Score: ' + str(v))\n",
    "        count += 1\n",
    "    \n",
    "    return importance, X"
   ]
  },
  {
   "cell_type": "code",
   "execution_count": 57,
   "id": "fifty-racing",
   "metadata": {},
   "outputs": [
    {
     "name": "stdout",
     "output_type": "stream",
     "text": [
      "Company : 4436\n",
      "Feature: date, Score: -17287.464951797225\n",
      "Feature: current_ratio, Score: 208581.12565488176\n",
      "Feature: debt_to_asset_ratio, Score: 16312.109457720275\n",
      "Feature: acid_test, Score: -192113.62348738222\n",
      "Feature: net_profit_margin, Score: 6868.914702308105\n"
     ]
    },
    {
     "data": {
      "text/plain": [
       "<AxesSubplot:title={'center':'Company 4436 Features'}>"
      ]
     },
     "execution_count": 57,
     "metadata": {},
     "output_type": "execute_result"
    },
    {
     "data": {
      "image/png": "[encoded data removed]",
      "text/plain": [
       "<Figure size 432x288 with 1 Axes>"
      ]
     },
     "metadata": {
      "needs_background": "light"
     },
     "output_type": "display_data"
    }
   ],
   "source": [
    "importance, X = feature_importance(customer0)\n",
    "\n",
    "(pd.Series(importance, index=X.columns)\n",
    "   .plot(kind='barh', title='Company 4436 Features'))  "
   ]
  },
  {
   "cell_type": "code",
   "execution_count": 56,
   "id": "precise-fence",
   "metadata": {},
   "outputs": [
    {
     "name": "stdout",
     "output_type": "stream",
     "text": [
      "Company : 4522\n",
      "Feature: date, Score: -19255.501381527964\n",
      "Feature: current_ratio, Score: 142441.04919541\n",
      "Feature: debt_to_asset_ratio, Score: -35088.91244710984\n",
      "Feature: acid_test, Score: 0.0\n",
      "Feature: net_profit_margin, Score: 0.0\n"
     ]
    },
    {
     "data": {
      "text/plain": [
       "<AxesSubplot:title={'center':'Company 4522 Features'}>"
      ]
     },
     "execution_count": 56,
     "metadata": {},
     "output_type": "execute_result"
    },
    {
     "data": {
      "image/png": "[encoded data removed]",
      "text/plain": [
       "<Figure size 432x288 with 1 Axes>"
      ]
     },
     "metadata": {
      "needs_background": "light"
     },
     "output_type": "display_data"
    }
   ],
   "source": [
    "importance, X = feature_importance(customer1)\n",
    "\n",
    "(pd.Series(importance, index=X.columns)\n",
    "   .plot(kind='barh', title='Company 4522 Features'))    "
   ]
  },
  {
   "cell_type": "code",
   "execution_count": 59,
   "id": "registered-diamond",
   "metadata": {},
   "outputs": [
    {
     "name": "stdout",
     "output_type": "stream",
     "text": [
      "Company : 4704\n",
      "Feature: date, Score: 0.0\n",
      "Feature: current_ratio, Score: 0.0\n",
      "Feature: debt_to_asset_ratio, Score: 0.0\n",
      "Feature: acid_test, Score: 0.0\n",
      "Feature: net_profit_margin, Score: 0.0\n"
     ]
    },
    {
     "data": {
      "text/plain": [
       "<AxesSubplot:title={'center':'Company 4522 Features'}>"
      ]
     },
     "execution_count": 59,
     "metadata": {},
     "output_type": "execute_result"
    },
    {
     "data": {
      "image/png": "[encoded data removed]",
      "text/plain": [
       "<Figure size 432x288 with 1 Axes>"
      ]
     },
     "metadata": {
      "needs_background": "light"
     },
     "output_type": "display_data"
    }
   ],
   "source": [
    "importance, X = feature_importance(customer2)\n",
    "\n",
    "(pd.Series(importance, index=X.columns)\n",
    "   .plot(kind='barh', title='Company 4522 Features'))    "
   ]
  },
  {
   "cell_type": "code",
   "execution_count": 61,
   "id": "incorrect-steam",
   "metadata": {},
   "outputs": [
    {
     "name": "stdout",
     "output_type": "stream",
     "text": [
      "Company : 4522\n",
      "Feature: date, Score: -19255.501381527964\n",
      "Feature: current_ratio, Score: 142441.04919541\n",
      "Feature: debt_to_asset_ratio, Score: -35088.91244710984\n",
      "Feature: acid_test, Score: 0.0\n",
      "Feature: net_profit_margin, Score: 0.0\n"
     ]
    },
    {
     "data": {
      "text/plain": [
       "<AxesSubplot:title={'center':'Company 4522 Features'}>"
      ]
     },
     "execution_count": 61,
     "metadata": {},
     "output_type": "execute_result"
    },
    {
     "data": {
      "image/png": "[encoded data removed]",
      "text/plain": [
       "<Figure size 432x288 with 1 Axes>"
      ]
     },
     "metadata": {
      "needs_background": "light"
     },
     "output_type": "display_data"
    }
   ],
   "source": [
    "importance, X = feature_importance(customer1)\n",
    "\n",
    "(pd.Series(importance, index=X.columns)\n",
    "   .plot(kind='barh', title='Company 4522 Features'))    "
   ]
  },
  {
   "cell_type": "code",
   "execution_count": null,
   "id": "threaded-celebration",
   "metadata": {},
   "outputs": [],
   "source": []
  },
  {
   "cell_type": "code",
   "execution_count": 49,
   "id": "fossil-register",
   "metadata": {},
   "outputs": [
    {
     "data": {
      "text/html": [
       "<div>\n",
       "<style scoped>\n",
       "    .dataframe tbody tr th:only-of-type {\n",
       "        vertical-align: middle;\n",
       "    }\n",
       "\n",
       "    .dataframe tbody tr th {\n",
       "        vertical-align: top;\n",
       "    }\n",
       "\n",
       "    .dataframe thead th {\n",
       "        text-align: right;\n",
       "    }\n",
       "</style>\n",
       "<table border=\"1\" class=\"dataframe\">\n",
       "  <thead>\n",
       "    <tr style=\"text-align: right;\">\n",
       "      <th></th>\n",
       "      <th>date</th>\n",
       "      <th>current_ratio</th>\n",
       "      <th>debt_to_asset_ratio</th>\n",
       "      <th>acid_test</th>\n",
       "      <th>net_profit_margin</th>\n",
       "    </tr>\n",
       "  </thead>\n",
       "  <tbody>\n",
       "    <tr>\n",
       "      <th>0</th>\n",
       "      <td>-1.842302</td>\n",
       "      <td>-0.289109</td>\n",
       "      <td>-1.023504</td>\n",
       "      <td>NaN</td>\n",
       "      <td>NaN</td>\n",
       "    </tr>\n",
       "    <tr>\n",
       "      <th>1</th>\n",
       "      <td>-1.838001</td>\n",
       "      <td>-0.289109</td>\n",
       "      <td>-1.023504</td>\n",
       "      <td>NaN</td>\n",
       "      <td>NaN</td>\n",
       "    </tr>\n",
       "    <tr>\n",
       "      <th>2</th>\n",
       "      <td>-1.459035</td>\n",
       "      <td>-0.289109</td>\n",
       "      <td>-1.023504</td>\n",
       "      <td>NaN</td>\n",
       "      <td>NaN</td>\n",
       "    </tr>\n",
       "    <tr>\n",
       "      <th>3</th>\n",
       "      <td>-1.454905</td>\n",
       "      <td>-0.289109</td>\n",
       "      <td>-1.023504</td>\n",
       "      <td>NaN</td>\n",
       "      <td>NaN</td>\n",
       "    </tr>\n",
       "    <tr>\n",
       "      <th>4</th>\n",
       "      <td>-1.450519</td>\n",
       "      <td>-0.289109</td>\n",
       "      <td>-1.023504</td>\n",
       "      <td>NaN</td>\n",
       "      <td>NaN</td>\n",
       "    </tr>\n",
       "    <tr>\n",
       "      <th>...</th>\n",
       "      <td>...</td>\n",
       "      <td>...</td>\n",
       "      <td>...</td>\n",
       "      <td>...</td>\n",
       "      <td>...</td>\n",
       "    </tr>\n",
       "    <tr>\n",
       "      <th>92</th>\n",
       "      <td>1.547142</td>\n",
       "      <td>-0.188330</td>\n",
       "      <td>0.451916</td>\n",
       "      <td>NaN</td>\n",
       "      <td>NaN</td>\n",
       "    </tr>\n",
       "    <tr>\n",
       "      <th>93</th>\n",
       "      <td>1.551400</td>\n",
       "      <td>-0.173920</td>\n",
       "      <td>0.267885</td>\n",
       "      <td>NaN</td>\n",
       "      <td>NaN</td>\n",
       "    </tr>\n",
       "    <tr>\n",
       "      <th>94</th>\n",
       "      <td>1.555615</td>\n",
       "      <td>-0.154769</td>\n",
       "      <td>0.085441</td>\n",
       "      <td>NaN</td>\n",
       "      <td>NaN</td>\n",
       "    </tr>\n",
       "    <tr>\n",
       "      <th>95</th>\n",
       "      <td>1.559916</td>\n",
       "      <td>-0.207766</td>\n",
       "      <td>0.797767</td>\n",
       "      <td>NaN</td>\n",
       "      <td>NaN</td>\n",
       "    </tr>\n",
       "    <tr>\n",
       "      <th>96</th>\n",
       "      <td>1.564131</td>\n",
       "      <td>-0.203215</td>\n",
       "      <td>0.702578</td>\n",
       "      <td>NaN</td>\n",
       "      <td>NaN</td>\n",
       "    </tr>\n",
       "  </tbody>\n",
       "</table>\n",
       "<p>97 rows × 5 columns</p>\n",
       "</div>"
      ],
      "text/plain": [
       "        date  current_ratio  debt_to_asset_ratio  acid_test  net_profit_margin\n",
       "0  -1.842302      -0.289109            -1.023504        NaN                NaN\n",
       "1  -1.838001      -0.289109            -1.023504        NaN                NaN\n",
       "2  -1.459035      -0.289109            -1.023504        NaN                NaN\n",
       "3  -1.454905      -0.289109            -1.023504        NaN                NaN\n",
       "4  -1.450519      -0.289109            -1.023504        NaN                NaN\n",
       "..       ...            ...                  ...        ...                ...\n",
       "92  1.547142      -0.188330             0.451916        NaN                NaN\n",
       "93  1.551400      -0.173920             0.267885        NaN                NaN\n",
       "94  1.555615      -0.154769             0.085441        NaN                NaN\n",
       "95  1.559916      -0.207766             0.797767        NaN                NaN\n",
       "96  1.564131      -0.203215             0.702578        NaN                NaN\n",
       "\n",
       "[97 rows x 5 columns]"
      ]
     },
     "execution_count": 49,
     "metadata": {},
     "output_type": "execute_result"
    }
   ],
   "source": [
    "df"
   ]
  },
  {
   "cell_type": "code",
   "execution_count": null,
   "id": "increased-worker",
   "metadata": {},
   "outputs": [],
   "source": []
  }
 ],
 "metadata": {
  "interpreter": {
   "hash": "d7d3ae1ab5bd9bc33abd6bbe16431ba7f2cc63809e2b793995b213b337612876"
  },
  "kernelspec": {
   "display_name": "Python 3",
   "language": "python",
   "name": "python3"
  },
  "language_info": {
   "codemirror_mode": {
    "name": "ipython",
    "version": 3
   },
   "file_extension": ".py",
   "mimetype": "text/x-python",
   "name": "python",
   "nbconvert_exporter": "python",
   "pygments_lexer": "ipython3",
   "version": "3.7.4"
  }
 },
 "nbformat": 4,
 "nbformat_minor": 5
}
