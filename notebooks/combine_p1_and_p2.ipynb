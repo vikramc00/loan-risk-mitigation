{
 "cells": [
  {
   "cell_type": "code",
   "execution_count": 2,
   "source": [
    "import os\n",
    "import pandas as pd    "
   ],
   "outputs": [],
   "metadata": {}
  },
  {
   "cell_type": "code",
   "execution_count": 20,
   "source": [
    "valid_companies = []\n",
    "\n",
    "for company in os.listdir(\"../Features/\"):\n",
    "    try:\n",
    "        p1_month = pd.read_csv(\"../Features/\" + str(company) + \"/priority1_month.csv\").iloc[:, 2:]\n",
    "        p2_month = pd.read_csv(\"../Features/\" + str(company) + \"/priority2_month.csv\").iloc[:, 1:]\n",
    "        p1_year = pd.read_csv(\"../Features/\" + str(company) + \"/priority1_year.csv\").iloc[:, 2:]\n",
    "        p2_year = pd.read_csv(\"../Features/\" + str(company) + \"/priority2_year.csv\").iloc[:, 1:]\n",
    "\n",
    "        month = pd.concat([p2_month, p1_month], axis=1)\n",
    "        year = pd.concat([p2_year, p1_year], axis=1)\n",
    "        \n",
    "        month.to_csv(\"../Features/\" + str(company) + \"/month.csv\")        \n",
    "        year.to_csv(\"../Features/\" + str(company) + \"/year.csv\")\n",
    "    except:\n",
    "        continue\n"
   ],
   "outputs": [],
   "metadata": {}
  },
  {
   "cell_type": "code",
   "execution_count": 19,
   "source": [
    "month = pd.read_csv(\"../Features/\" + str(3) + \"/month.csv\")\n",
    "\n",
    "month.drop(columns=month.columns[0], \n",
    "        axis=1, \n",
    "        inplace=True)\n",
    "\n",
    "len(month.columns)\n"
   ],
   "outputs": [
    {
     "output_type": "execute_result",
     "data": {
      "text/plain": [
       "18"
      ]
     },
     "metadata": {},
     "execution_count": 19
    }
   ],
   "metadata": {}
  }
 ],
 "metadata": {
  "orig_nbformat": 4,
  "language_info": {
   "name": "python",
   "version": "3.8.8",
   "mimetype": "text/x-python",
   "codemirror_mode": {
    "name": "ipython",
    "version": 3
   },
   "pygments_lexer": "ipython3",
   "nbconvert_exporter": "python",
   "file_extension": ".py"
  },
  "kernelspec": {
   "name": "python3",
   "display_name": "Python 3.8.8 64-bit ('base': conda)"
  },
  "interpreter": {
   "hash": "d7d3ae1ab5bd9bc33abd6bbe16431ba7f2cc63809e2b793995b213b337612876"
  }
 },
 "nbformat": 4,
 "nbformat_minor": 2
}