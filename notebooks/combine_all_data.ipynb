{
 "cells": [
  {
   "cell_type": "code",
   "execution_count": 1,
   "metadata": {},
   "outputs": [],
   "source": [
    "import os\n",
    "import pandas as pd    \n",
    "from sklearn import preprocessing"
   ]
  },
  {
   "cell_type": "code",
   "execution_count": 2,
   "metadata": {},
   "outputs": [],
   "source": [
    "data = pd.DataFrame()\n",
    "\n",
    "for company in os.listdir(\"../Features/\"):\n",
    "    try:\n",
    "        p1 = pd.read_csv(\"../Features/\" + str(company) + \"/priority1_year.csv\").iloc[:, 2:]\n",
    "        p2 = pd.read_csv(\"../Features/\" + str(company) + \"/priority2_year.csv\").iloc[:, 1:]\n",
    "        p = pd.concat([p2, p1], axis=1)\n",
    "        data = pd.concat([data, p], axis = 0)\n",
    "    except:\n",
    "        continue\n",
    "    \n",
    "# data = data.sort_values(by = [\"date\"], ascending=True)\n",
    "data = data[data[\"date\"] >= 1995]\n",
    "data = data[data[\"date\"] <= 2021]\n",
    "data.set_index('date', inplace=True)\n",
    "\n",
    "data.to_csv(\"../Features/all_data_new.csv\")"
   ]
  },
  {
   "cell_type": "code",
   "execution_count": null,
   "metadata": {},
   "outputs": [],
   "source": []
  }
 ],
 "metadata": {
  "interpreter": {
   "hash": "d7d3ae1ab5bd9bc33abd6bbe16431ba7f2cc63809e2b793995b213b337612876"
  },
  "kernelspec": {
   "display_name": "Python 3.8.8 64-bit ('base': conda)",
   "name": "python3"
  },
  "language_info": {
   "codemirror_mode": {
    "name": "ipython",
    "version": 3
   },
   "file_extension": ".py",
   "mimetype": "text/x-python",
   "name": "python",
   "nbconvert_exporter": "python",
   "pygments_lexer": "ipython3",
   "version": "3.7.4"
  },
  "orig_nbformat": 4
 },
 "nbformat": 4,
 "nbformat_minor": 2
}
