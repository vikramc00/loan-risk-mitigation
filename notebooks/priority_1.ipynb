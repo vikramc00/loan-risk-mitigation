{
 "cells": [
  {
   "cell_type": "code",
   "execution_count": null,
   "id": "784cffd2",
   "metadata": {},
   "outputs": [],
   "source": [
    "import pandas as pd\n",
    "import os\n",
    "from tqdm import tqdm"
   ]
  },
  {
   "cell_type": "markdown",
   "id": "dae62c67",
   "metadata": {},
   "source": [
    "Getting list of customers"
   ]
  },
  {
   "cell_type": "code",
   "execution_count": null,
   "id": "51258feb",
   "metadata": {},
   "outputs": [],
   "source": [
    "# customer0 = 4436\n",
    "# customer1 = 4522\n",
    "# customer2 = 4704\n",
    "# customer3 = 6374\n",
    "# list_of_customers = [4436, 4522, 4704, 6374]\n",
    "balance_df = pd.read_csv(\"../RawData/balance_sheet_with_headers.csv\")\n",
    "list_of_customers = list(balance_df['customer_id'].unique())"
   ]
  },
  {
   "cell_type": "code",
   "execution_count": 44,
   "id": "df87d3a8",
   "metadata": {},
   "outputs": [],
   "source": [
    "list_of_customers.sort()"
   ]
  },
  {
   "cell_type": "code",
   "execution_count": null,
   "id": "3a55100d",
   "metadata": {},
   "outputs": [],
   "source": [
    "def get_noncurrent(out_df, x, group, accountBool):\n",
    "    ser = x[accountBool].groupby(group)['balance'].sum()\n",
    "    dates = ser.index.values\n",
    "    \n",
    "    new_val = []\n",
    "    for date in out_df['date']:\n",
    "        if date in dates:\n",
    "            new_val.append(ser[date])\n",
    "        else:\n",
    "            new_val.append(0.0)            \n",
    "    return new_val "
   ]
  },
  {
   "cell_type": "code",
   "execution_count": 50,
   "id": "2295342e",
   "metadata": {},
   "outputs": [],
   "source": [
    "def get_p1(balance_df, profit_df, raw_balance_df, label):\n",
    "    try:\n",
    "        out0 = pd.DataFrame()\n",
    "\n",
    "        current = balance_df['account_subtype'] == 'Current Assets'\n",
    "        assets = balance_df['account_type'] == 'Assets'\n",
    "\n",
    "        out0['date'] = balance_df.groupby(label)['balance'].sum().index\n",
    "        out0['current_assets'] = balance_df[current].groupby(label)['balance'].sum().values\n",
    "        out0['non_current_assets'] = get_noncurrent(out0, balance_df, label, assets & ~current)\n",
    "\n",
    "        liabilities = balance_df['account_type'] == 'Liabilities'\n",
    "        current_l = balance_df['account_subtype'] == 'Current Liabilities'\n",
    "\n",
    "        out0['current_liabilities'] = balance_df[current_l].groupby(label)['balance'].sum().values\n",
    "        out0['non_current_liabilities'] = get_noncurrent(out0, balance_df, label, liabilities & ~current_l)\n",
    "\n",
    "        equity = balance_df['account_type'] == 'Equity'\n",
    "        out0['equity'] = balance_df[equity].groupby(label)['balance'].sum().values\n",
    "\n",
    "        account_subtype = profit_df.loc[profit_df['account_subtype'].str.contains(\"Revenue\", case=False)] \n",
    "        account_type = profit_df.loc[profit_df['account_type'].str.contains(\"Revenue\", case=False)]\n",
    "        revenue = pd.concat([account_subtype, account_type])\n",
    "        print(revenue.head)\n",
    "        \n",
    "        out0['net_revenue'] = get_noncurrent(out0, profit_df, label, revenue)\n",
    "        \n",
    "        x = raw_balance_df['account_name'].str.split(\"|\", expand=True)\n",
    "        out0['accounts_receivable'] = get_noncurrent(out0, raw_balance_df, label, x[2] == \"Accounts Receivable\")\n",
    "        boolean_x = ((x[3] == \"Cash & cash equivalents\") | (x[3] == \"Cash & cash equivalents US\"))\n",
    "        out0['cash'] = get_noncurrent(out0, raw_balance_df, label, boolean_x)\n",
    "        out0['securities'] = get_noncurrent(out0, raw_balance_df, label, x[3] == 'Security Deposits')\n",
    "\n",
    "        out0['qr_top'] = out0['accounts_receivable'] + out0['cash'] + out0['securities']\n",
    "        out0.drop(['accounts_receivable', 'cash', 'securities'], axis=1, inplace=True)\n",
    "\n",
    "        expenses = profit_df['account_type'] == 'Expenses'\n",
    "        out0['expenses'] = get_noncurrent(out0, profit_df, label, expenses)\n",
    "\n",
    "        sales = (profit_df['account_subtype'] == 'Sales') | (profit_df['account_subtype'] == 'Sales of Product Income')\n",
    "        out0['sales'] = get_noncurrent(out0, profit_df, label, sales)\n",
    "        \n",
    "        out0['net_income'] = get_noncurrent(out0, balance_df, label, balance_df['account_subtype'] == 'Net Income')\n",
    "        \n",
    "        label = 'month' if (label == 'period_date') else label\n",
    "\n",
    "        path = \"../Features/\" + str(cid)\n",
    "        if not os.path.exists(path):\n",
    "            os.makedirs(path)\n",
    "        out0.to_csv(f\"../Features/\" + str(cid) + \"/priority1_\" + str(label) + \".csv\")\n",
    "    except:\n",
    "        return 1"
   ]
  },
  {
   "cell_type": "code",
   "execution_count": null,
   "id": "41a42e5a",
   "metadata": {},
   "outputs": [],
   "source": [
    "def get_dataframes(cid, raw_balance_df):\n",
    "    balance_df = pd.read_csv(\"../OfficialData/\" + str(cid) + \"/balance.csv\")\n",
    "    profit_df = pd.read_csv(\"../OfficialData/\" + str(cid) + \"/profit.csv\")\n",
    "    balance_df[['year', 'month', 'day']] = balance_df['period_date'].str.split('-', expand=True)\n",
    "    profit_df[['year', 'month', 'day']] = profit_df['period_date'].str.split('-', expand=True)\n",
    "    # raw_balance_df = pd.read_csv(\"../RawData/balance_sheet_with_headers.csv\")\n",
    "    # raw_balance_df[['year', 'month', 'day']] = raw_balance_df['period_date'].str.split('-', expand=True)\n",
    "    raw_balance_df = raw_balance_df[raw_balance_df['customer_id'] == cid]\n",
    "    return balance_df, profit_df, raw_balance_df"
   ]
  },
  {
   "cell_type": "code",
   "execution_count": null,
   "id": "17d5a115",
   "metadata": {},
   "outputs": [],
   "source": [
    "raw_balance_df = pd.read_csv(\"../RawData/balance_sheet_with_headers.csv\")\n",
    "raw_balance_df[['year', 'month', 'day']] = raw_balance_df['period_date'].str.split('-', expand=True)"
   ]
  },
  {
   "cell_type": "code",
   "execution_count": 51,
   "id": "6d9bafbc",
   "metadata": {},
   "outputs": [
    {
     "name": "stderr",
     "output_type": "stream",
     "text": [
      "  0%|          | 0/10 [00:00<?, ?it/s]"
     ]
    },
    {
     "name": "stdout",
     "output_type": "stream",
     "text": [
      "cid 7\n",
      "<bound method NDFrame.head of            id  customer_id  account_id period_date    balance  report_id  \\\n",
      "2281  1253321            7       22246  2015-08-01   18648.13       1926   \n",
      "2282  1253320            7       22247  2015-08-01  243015.37       1926   \n",
      "2299  3246951            7       22246  2016-04-01    4200.00       1732   \n",
      "2300  3246950            7       22247  2016-04-01   11000.00       1732   \n",
      "2423  2921075            7       22247  2016-03-01       0.00       2215   \n",
      "...       ...          ...         ...         ...        ...        ...   \n",
      "211    143730            7        5711  2014-05-31   20362.50        108   \n",
      "212    143371            7        5713  2014-05-31       0.00        108   \n",
      "213    143682            7        5716  2014-05-31       0.00        108   \n",
      "214    144466            7        5718  2014-05-31       0.00        108   \n",
      "215    143624            7        5719  2014-05-31   20018.74        108   \n",
      "\n",
      "     account_type                       account_subtype  year month day  \n",
      "2281       Income  4010 · Professional Services revenue  2015    08  01  \n",
      "2282       Income         4005 · SaaS Recurring revenue  2015    08  01  \n",
      "2299       Income  4010 · Professional Services revenue  2016    04  01  \n",
      "2300       Income         4005 · SaaS Recurring revenue  2016    04  01  \n",
      "2423       Income         4005 · SaaS Recurring revenue  2016    03  01  \n",
      "...           ...                                   ...   ...   ...  ..  \n",
      "211       Revenue                          40000 INCOME  2014    05  31  \n",
      "212       Revenue                          40000 INCOME  2014    05  31  \n",
      "213       Revenue                          40000 INCOME  2014    05  31  \n",
      "214       Revenue                          40000 INCOME  2014    05  31  \n",
      "215       Revenue                          40000 INCOME  2014    05  31  \n",
      "\n",
      "[67 rows x 11 columns]>\n"
     ]
    },
    {
     "name": "stderr",
     "output_type": "stream",
     "text": [
      "100%|██████████| 10/10 [00:00<00:00, 39.01it/s]"
     ]
    },
    {
     "name": "stdout",
     "output_type": "stream",
     "text": [
      "<bound method NDFrame.head of            id  customer_id  account_id period_date    balance  report_id  \\\n",
      "2281  1253321            7       22246  2015-08-01   18648.13       1926   \n",
      "2282  1253320            7       22247  2015-08-01  243015.37       1926   \n",
      "2299  3246951            7       22246  2016-04-01    4200.00       1732   \n",
      "2300  3246950            7       22247  2016-04-01   11000.00       1732   \n",
      "2423  2921075            7       22247  2016-03-01       0.00       2215   \n",
      "...       ...          ...         ...         ...        ...        ...   \n",
      "211    143730            7        5711  2014-05-31   20362.50        108   \n",
      "212    143371            7        5713  2014-05-31       0.00        108   \n",
      "213    143682            7        5716  2014-05-31       0.00        108   \n",
      "214    144466            7        5718  2014-05-31       0.00        108   \n",
      "215    143624            7        5719  2014-05-31   20018.74        108   \n",
      "\n",
      "     account_type                       account_subtype  year month day  \n",
      "2281       Income  4010 · Professional Services revenue  2015    08  01  \n",
      "2282       Income         4005 · SaaS Recurring revenue  2015    08  01  \n",
      "2299       Income  4010 · Professional Services revenue  2016    04  01  \n",
      "2300       Income         4005 · SaaS Recurring revenue  2016    04  01  \n",
      "2423       Income         4005 · SaaS Recurring revenue  2016    03  01  \n",
      "...           ...                                   ...   ...   ...  ..  \n",
      "211       Revenue                          40000 INCOME  2014    05  31  \n",
      "212       Revenue                          40000 INCOME  2014    05  31  \n",
      "213       Revenue                          40000 INCOME  2014    05  31  \n",
      "214       Revenue                          40000 INCOME  2014    05  31  \n",
      "215       Revenue                          40000 INCOME  2014    05  31  \n",
      "\n",
      "[67 rows x 11 columns]>\n"
     ]
    },
    {
     "name": "stderr",
     "output_type": "stream",
     "text": [
      "\n"
     ]
    }
   ],
   "source": [
    "#sp = raw_balance_df.copy(deep=True)\n",
    "#y = raw_balance_df['account_name'].str.split(\"|\", expand=True)\n",
    "list_of_bad_companies= []\n",
    "for c in tqdm(range(10)):\n",
    "    cid = list_of_customers[c]\n",
    "    if cid == 7:\n",
    "        if cid in list_of_customers:\n",
    "            print(\"cid \" + str(cid))\n",
    "            try:\n",
    "                balance_df, profit_df, raw_balance_df_c = get_dataframes(cid, raw_balance_df)\n",
    "            except:\n",
    "                list_of_bad_companies.append(cid)\n",
    "                continue\n",
    "            a = get_p1(balance_df, profit_df, raw_balance_df_c,'period_date')\n",
    "            b = get_p1(balance_df, profit_df, raw_balance_df_c, 'year')\n",
    "            if a or b:\n",
    "                list_of_bad_companies.append(cid)\n",
    "            #raw_balance_df = sp.copy(deep=True)"
   ]
  },
  {
   "cell_type": "code",
   "execution_count": null,
   "id": "b7e4f04d",
   "metadata": {},
   "outputs": [],
   "source": [
    "print(list_of_bad_companies)\n",
    "print(len(list_of_bad_companies))"
   ]
  },
  {
   "cell_type": "code",
   "execution_count": null,
   "id": "c1ca3374",
   "metadata": {},
   "outputs": [],
   "source": [
    "print(len(list_of_customers))"
   ]
  },
  {
   "cell_type": "code",
   "execution_count": null,
   "id": "969fe896",
   "metadata": {},
   "outputs": [],
   "source": [
    "balance_df[liabilities]['account_subtype'].value_counts()"
   ]
  },
  {
   "cell_type": "code",
   "execution_count": null,
   "id": "26268cb1",
   "metadata": {},
   "outputs": [],
   "source": [
    "balance_df['account_type'].value_counts()"
   ]
  },
  {
   "cell_type": "code",
   "execution_count": null,
   "id": "a97bfd6a",
   "metadata": {},
   "outputs": [],
   "source": [
    "out0['current_assets'] + out0['non_current_assets'] - out0['current_liabilities'] - out0['non_current_liabilities']"
   ]
  },
  {
   "cell_type": "code",
   "execution_count": null,
   "id": "67ec36c3",
   "metadata": {},
   "outputs": [],
   "source": [
    "balance_df[assets]['balance'].sum() - balance_df[liabilities]['balance'].sum()"
   ]
  },
  {
   "cell_type": "code",
   "execution_count": null,
   "id": "15f2eda8",
   "metadata": {},
   "outputs": [],
   "source": [
    "balance_df[balance_df['account_type'] == 'Equity']['balance'].sum()"
   ]
  },
  {
   "cell_type": "code",
   "execution_count": null,
   "id": "16c1baec",
   "metadata": {},
   "outputs": [],
   "source": [
    "balance_df[['year', 'month', 'day']] = balance_df['period_date'].str.split('-', expand=True)"
   ]
  },
  {
   "cell_type": "code",
   "execution_count": null,
   "id": "908679f5",
   "metadata": {},
   "outputs": [],
   "source": [
    "balance_df[assets].groupby('year')['balance'].sum() - balance_df[liabilities].groupby('year')['balance'].sum()"
   ]
  },
  {
   "cell_type": "code",
   "execution_count": null,
   "id": "ae6d679f",
   "metadata": {},
   "outputs": [],
   "source": [
    "tt1_df = balance_df[balance_df['year'] == '2021']"
   ]
  },
  {
   "cell_type": "code",
   "execution_count": null,
   "id": "6e56c840",
   "metadata": {},
   "outputs": [],
   "source": [
    "tt1_df['balance_actual'] = tt1_df.balance.diff()\n",
    "tt1_df['balance_actual'].iloc[0] = 0"
   ]
  },
  {
   "cell_type": "code",
   "execution_count": null,
   "id": "2ae6490e",
   "metadata": {},
   "outputs": [],
   "source": [
    "tt1_df"
   ]
  },
  {
   "cell_type": "code",
   "execution_count": null,
   "id": "af911275",
   "metadata": {},
   "outputs": [],
   "source": [
    "out0"
   ]
  },
  {
   "cell_type": "code",
   "execution_count": null,
   "id": "0a3f9daf",
   "metadata": {},
   "outputs": [],
   "source": []
  },
  {
   "cell_type": "code",
   "execution_count": null,
   "id": "afb451ae",
   "metadata": {},
   "outputs": [],
   "source": []
  },
  {
   "cell_type": "code",
   "execution_count": null,
   "id": "082720c6",
   "metadata": {},
   "outputs": [],
   "source": [
    "assets = tt1_df['account_type'] == 'Assets'\n",
    "assets_b = tt1_df[assets]['balance_actual'].sum()\n",
    "assets_b"
   ]
  },
  {
   "cell_type": "code",
   "execution_count": null,
   "id": "814ea9e6",
   "metadata": {},
   "outputs": [],
   "source": [
    "liable = balance_df['account_type'] == 'Liabilities'\n",
    "liable_b = balance_df[liable]['balance_actual'].sum()\n",
    "liable_b"
   ]
  },
  {
   "cell_type": "code",
   "execution_count": null,
   "id": "7ea36c05",
   "metadata": {},
   "outputs": [],
   "source": [
    "equity = balance_df['account_type'] == 'Equity'\n",
    "equity_b = balance_df[equity]['balance_actual'].sum()\n",
    "equity_b"
   ]
  },
  {
   "cell_type": "code",
   "execution_count": null,
   "id": "e12617ed",
   "metadata": {},
   "outputs": [],
   "source": [
    "assets_b + liable_b + equity_b"
   ]
  },
  {
   "cell_type": "code",
   "execution_count": null,
   "id": "5c5e3334",
   "metadata": {},
   "outputs": [],
   "source": []
  },
  {
   "cell_type": "code",
   "execution_count": null,
   "id": "505dcdd0",
   "metadata": {},
   "outputs": [],
   "source": []
  }
 ],
 "metadata": {
  "interpreter": {
   "hash": "d7d3ae1ab5bd9bc33abd6bbe16431ba7f2cc63809e2b793995b213b337612876"
  },
  "kernelspec": {
   "display_name": "Python 3.8.8 64-bit ('base': conda)",
   "name": "python3"
  },
  "language_info": {
   "codemirror_mode": {
    "name": "ipython",
    "version": 3
   },
   "file_extension": ".py",
   "mimetype": "text/x-python",
   "name": "python",
   "nbconvert_exporter": "python",
   "pygments_lexer": "ipython3",
   "version": "3.8.8"
  }
 },
 "nbformat": 4,
 "nbformat_minor": 5
}
