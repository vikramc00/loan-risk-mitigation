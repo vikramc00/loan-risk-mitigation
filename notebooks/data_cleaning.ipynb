{
 "cells": [
  {
   "cell_type": "markdown",
   "metadata": {
    "collapsed": false
   },
   "source": [
    "Import Statements"
   ]
  },
  {
   "cell_type": "code",
   "execution_count": 8,
   "metadata": {
    "collapsed": false
   },
   "outputs": [],
   "source": [
    "import pandas as pd\n",
    "from tqdm import tqdm\n",
    "from tqdm.notebook import tqdm_notebook\n",
    "tqdm_notebook.pandas()\n",
    "import os\n",
    "\n",
    "#tqdm.pandas()\n",
    "#tqdm_notebook().pandas()"
   ]
  },
  {
   "cell_type": "markdown",
   "metadata": {
    "collapsed": false
   },
   "source": [
    "DataFrame Loading"
   ]
  },
  {
   "cell_type": "code",
   "execution_count": 2,
   "metadata": {
    "collapsed": false
   },
   "outputs": [],
   "source": [
    "balance_df = pd.read_csv(\"../RawData/balance_sheet_with_headers.csv\")\n",
    "profit_df = pd.read_csv(\"../RawData/profit_losses_with_headers.csv\")"
   ]
  },
  {
   "cell_type": "code",
   "execution_count": 7,
   "metadata": {},
   "outputs": [],
   "source": [
    "profit_df['account_type'] = profit_df['account_name'].str.split('|').str[0]"
   ]
  },
  {
   "cell_type": "code",
   "execution_count": 11,
   "metadata": {},
   "outputs": [],
   "source": [
    "profit_df['account_subtype'] = profit_df['account_name'].str.split('|').str[1]"
   ]
  },
  {
   "cell_type": "code",
   "execution_count": 12,
   "metadata": {},
   "outputs": [],
   "source": [
    "profit_df = profit_df.drop('account_name', axis = 1)"
   ]
  },
  {
   "cell_type": "code",
   "execution_count": 13,
   "metadata": {},
   "outputs": [],
   "source": [
    "profit_df = profit_df.drop('modified_date', axis = 1)"
   ]
  },
  {
   "cell_type": "code",
   "execution_count": 4,
   "metadata": {
    "collapsed": false
   },
   "outputs": [],
   "source": [
    "profit_df['account_type'] = profit_df['account_name'].str.split('|').str[0]\n",
    "profit_df['account_subtype'] = profit_df['account_name'].str.split('|').str[1]\n",
    "profit_df = profit_df.drop('account_name', axis = 1)\n",
    "profit_df = profit_df.drop('modified_date', axis = 1)"
   ]
  },
  {
   "cell_type": "code",
   "execution_count": 3,
   "metadata": {},
   "outputs": [],
   "source": [
    "balance_df['account_type'] = balance_df['account_name'].str.split('|').str[0]\n",
    "balance_df['account_subtype'] = balance_df['account_name'].str.split('|').str[1]\n",
    "balance_df = balance_df.drop('account_name', axis = 1)\n",
    "balance_df = balance_df.drop('modified_date', axis = 1)"
   ]
  },
  {
   "cell_type": "code",
   "execution_count": 11,
   "metadata": {
    "collapsed": false
   },
   "outputs": [],
   "source": [
    "list_cid = list(balance_df['customer_id'].unique())"
   ]
  },
  {
   "cell_type": "code",
   "execution_count": 10,
   "metadata": {
    "collapsed": false
   },
   "outputs": [
    {
     "data": {
      "text/plain": [
       "3061"
      ]
     },
     "execution_count": 10,
     "metadata": {},
     "output_type": "execute_result"
    }
   ],
   "source": [
    "len(list_cid)"
   ]
  },
  {
   "cell_type": "code",
   "execution_count": 4,
   "metadata": {
    "collapsed": false
   },
   "outputs": [],
   "source": [
    "def clean_data(cid):\n",
    "    \n",
    "    path = \"../OfficialData/\" + str(cid)\n",
    "    if not os.path.exists(path):\n",
    "        os.makedirs(path)\n",
    "    balance = balance_df[balance_df['customer_id'] == cid]\n",
    "    balance.to_csv(\"../OfficialData/\" + str(cid) + \"/balance.csv\", index = False)\n",
    "    profit = profit_df[profit_df['customer_id'] == cid]\n",
    "    profit.to_csv(\"../OfficialData/\" + str(cid) + \"/profit.csv\", index = False)"
   ]
  },
  {
   "cell_type": "code",
   "execution_count": 13,
   "metadata": {
    "collapsed": false
   },
   "outputs": [],
   "source": [
    "for cid in list_cid:\n",
    "    clean_data(cid)"
   ]
  },
  {
   "cell_type": "code",
   "execution_count": 31,
   "metadata": {
    "collapsed": false
   },
   "outputs": [
    {
     "data": {
      "text/html": [
       "<div>\n",
       "<style scoped>\n",
       "    .dataframe tbody tr th:only-of-type {\n",
       "        vertical-align: middle;\n",
       "    }\n",
       "\n",
       "    .dataframe tbody tr th {\n",
       "        vertical-align: top;\n",
       "    }\n",
       "\n",
       "    .dataframe thead th {\n",
       "        text-align: right;\n",
       "    }\n",
       "</style>\n",
       "<table border=\"1\" class=\"dataframe\">\n",
       "  <thead>\n",
       "    <tr style=\"text-align: right;\">\n",
       "      <th></th>\n",
       "      <th>id</th>\n",
       "      <th>customer_id</th>\n",
       "      <th>account_id</th>\n",
       "      <th>period_date</th>\n",
       "      <th>balance</th>\n",
       "      <th>report_id</th>\n",
       "      <th>account_type</th>\n",
       "      <th>account_subtype</th>\n",
       "    </tr>\n",
       "  </thead>\n",
       "  <tbody>\n",
       "    <tr>\n",
       "      <th>0</th>\n",
       "      <td>96623</td>\n",
       "      <td>6374</td>\n",
       "      <td>297</td>\n",
       "      <td>2021-08-31</td>\n",
       "      <td>294.59</td>\n",
       "      <td>28083</td>\n",
       "      <td>Expenses</td>\n",
       "      <td>Financing Cost</td>\n",
       "    </tr>\n",
       "    <tr>\n",
       "      <th>1</th>\n",
       "      <td>96624</td>\n",
       "      <td>6374</td>\n",
       "      <td>297</td>\n",
       "      <td>2021-07-31</td>\n",
       "      <td>357.56</td>\n",
       "      <td>28083</td>\n",
       "      <td>Expenses</td>\n",
       "      <td>Financing Cost</td>\n",
       "    </tr>\n",
       "    <tr>\n",
       "      <th>2</th>\n",
       "      <td>96625</td>\n",
       "      <td>6374</td>\n",
       "      <td>297</td>\n",
       "      <td>2021-06-30</td>\n",
       "      <td>376.72</td>\n",
       "      <td>28083</td>\n",
       "      <td>Expenses</td>\n",
       "      <td>Financing Cost</td>\n",
       "    </tr>\n",
       "    <tr>\n",
       "      <th>3</th>\n",
       "      <td>96626</td>\n",
       "      <td>6374</td>\n",
       "      <td>297</td>\n",
       "      <td>2021-05-31</td>\n",
       "      <td>261.74</td>\n",
       "      <td>28083</td>\n",
       "      <td>Expenses</td>\n",
       "      <td>Financing Cost</td>\n",
       "    </tr>\n",
       "    <tr>\n",
       "      <th>4</th>\n",
       "      <td>96627</td>\n",
       "      <td>6374</td>\n",
       "      <td>297</td>\n",
       "      <td>2021-04-30</td>\n",
       "      <td>490.63</td>\n",
       "      <td>28083</td>\n",
       "      <td>Expenses</td>\n",
       "      <td>Financing Cost</td>\n",
       "    </tr>\n",
       "  </tbody>\n",
       "</table>\n",
       "</div>"
      ],
      "text/plain": [
       "      id  customer_id  account_id period_date  balance  report_id  \\\n",
       "0  96623         6374         297  2021-08-31   294.59      28083   \n",
       "1  96624         6374         297  2021-07-31   357.56      28083   \n",
       "2  96625         6374         297  2021-06-30   376.72      28083   \n",
       "3  96626         6374         297  2021-05-31   261.74      28083   \n",
       "4  96627         6374         297  2021-04-30   490.63      28083   \n",
       "\n",
       "  account_type account_subtype  \n",
       "0     Expenses  Financing Cost  \n",
       "1     Expenses  Financing Cost  \n",
       "2     Expenses  Financing Cost  \n",
       "3     Expenses  Financing Cost  \n",
       "4     Expenses  Financing Cost  "
      ]
     },
     "execution_count": 31,
     "metadata": {},
     "output_type": "execute_result"
    }
   ],
   "source": [
    "df = pd.read_csv(\"../OfficialData/6374/profit.csv\")\n",
    "df.head()"
   ]
  },
  {
   "cell_type": "code",
   "execution_count": 9,
   "metadata": {
    "collapsed": false
   },
   "outputs": [
    {
     "data": {
      "text/plain": [
       "83"
      ]
     },
     "execution_count": 9,
     "metadata": {},
     "output_type": "execute_result"
    }
   ],
   "source": [
    "len(df[df['account_subtype'] == 'Incomes - Net revenues'].groupby('period_date').mean().index)"
   ]
  },
  {
   "cell_type": "code",
   "execution_count": 10,
   "metadata": {
    "collapsed": false
   },
   "outputs": [
    {
     "data": {
      "text/plain": [
       "88"
      ]
     },
     "execution_count": 10,
     "metadata": {},
     "output_type": "execute_result"
    }
   ],
   "source": [
    "len(df.groupby('period_date').mean().index)"
   ]
  },
  {
   "cell_type": "markdown",
   "metadata": {
    "collapsed": false
   },
   "source": []
  },
  {
   "cell_type": "markdown",
   "metadata": {
    "collapsed": false
   },
   "source": []
  }
 ],
 "metadata": {
  "interpreter": {
   "hash": "a4b8600a4126ae82456c66b60810ff9d8fc0a514d487205e4b9a4b81074c1b42"
  },
  "kernelspec": {
   "display_name": "Python 3 (system-wide)",
   "language": "python",
   "metadata": {
    "cocalc": {
     "description": "Python 3 programming language",
     "priority": 100,
     "url": "https://www.python.org/"
    }
   },
   "name": "python3",
   "resource_dir": "/ext/jupyter/kernels/python3"
  },
  "language_info": {
   "codemirror_mode": {
    "name": "ipython",
    "version": 3
   },
   "file_extension": ".py",
   "mimetype": "text/x-python",
   "name": "python",
   "nbconvert_exporter": "python",
   "pygments_lexer": "ipython3",
   "version": "3.8.8"
  },
  "orig_nbformat": 4
 },
 "nbformat": 4,
 "nbformat_minor": 4
}
