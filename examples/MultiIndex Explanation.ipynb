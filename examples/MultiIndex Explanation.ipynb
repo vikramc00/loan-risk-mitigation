{
 "cells": [
  {
   "cell_type": "code",
   "execution_count": 100,
   "id": "aerial-weather",
   "metadata": {},
   "outputs": [],
   "source": [
    "import pandas as pd\n",
    "import numpy as np"
   ]
  },
  {
   "cell_type": "markdown",
   "id": "wicked-interference",
   "metadata": {},
   "source": [
    "# Dataset\n",
    "\n",
    "This is a dataset similar to the one which Lighter Capital has sent over. I will walk through how to format the data accordingly (so that we can actually use it to calculate metrics). THESE ARE RANDOM VALUES."
   ]
  },
  {
   "cell_type": "code",
   "execution_count": 101,
   "id": "classified-warrant",
   "metadata": {},
   "outputs": [
    {
     "data": {
      "text/html": [
       "<div>\n",
       "<style scoped>\n",
       "    .dataframe tbody tr th:only-of-type {\n",
       "        vertical-align: middle;\n",
       "    }\n",
       "\n",
       "    .dataframe tbody tr th {\n",
       "        vertical-align: top;\n",
       "    }\n",
       "\n",
       "    .dataframe thead th {\n",
       "        text-align: right;\n",
       "    }\n",
       "</style>\n",
       "<table border=\"1\" class=\"dataframe\">\n",
       "  <thead>\n",
       "    <tr style=\"text-align: right;\">\n",
       "      <th></th>\n",
       "      <th>Account</th>\n",
       "      <th>Balance</th>\n",
       "    </tr>\n",
       "  </thead>\n",
       "  <tbody>\n",
       "    <tr>\n",
       "      <th>0</th>\n",
       "      <td>Income|Revenue</td>\n",
       "      <td>11.928220</td>\n",
       "    </tr>\n",
       "    <tr>\n",
       "      <th>1</th>\n",
       "      <td>Income|Interest</td>\n",
       "      <td>72.524515</td>\n",
       "    </tr>\n",
       "    <tr>\n",
       "      <th>2</th>\n",
       "      <td>Other Income|Benefits</td>\n",
       "      <td>28.274257</td>\n",
       "    </tr>\n",
       "    <tr>\n",
       "      <th>3</th>\n",
       "      <td>Other Income|Insurance</td>\n",
       "      <td>77.729235</td>\n",
       "    </tr>\n",
       "    <tr>\n",
       "      <th>4</th>\n",
       "      <td>Expenses|Internet</td>\n",
       "      <td>50.004480</td>\n",
       "    </tr>\n",
       "  </tbody>\n",
       "</table>\n",
       "</div>"
      ],
      "text/plain": [
       "                  Account    Balance\n",
       "0          Income|Revenue  11.928220\n",
       "1         Income|Interest  72.524515\n",
       "2   Other Income|Benefits  28.274257\n",
       "3  Other Income|Insurance  77.729235\n",
       "4       Expenses|Internet  50.004480"
      ]
     },
     "execution_count": 101,
     "metadata": {},
     "output_type": "execute_result"
    }
   ],
   "source": [
    "df = pd.DataFrame()\n",
    "\n",
    "columns = ['Income|Revenue', 'Income|Interest', 'Other Income|Benefits', \n",
    "           'Other Income|Insurance', 'Expenses|Internet', 'Expenses|Marketing']\n",
    "\n",
    "values = np.random.rand(25, len(columns)).reshape(-1, 1) * 100\n",
    "\n",
    "df['Account'] = columns * 25\n",
    "df['Balance'] = values\n",
    "\n",
    "df.head()"
   ]
  },
  {
   "cell_type": "markdown",
   "id": "clean-prisoner",
   "metadata": {},
   "source": [
    "The dataset is completely unusable. So, to make it better. Lets first split up the \"account\" column into the main cateogry (income/other income/expenses) and sub-category (revenue/interest). We will make it two seperate columns and drop the original account column (don't need it anymore)."
   ]
  },
  {
   "cell_type": "code",
   "execution_count": 102,
   "id": "nutritional-crime",
   "metadata": {},
   "outputs": [
    {
     "data": {
      "text/html": [
       "<div>\n",
       "<style scoped>\n",
       "    .dataframe tbody tr th:only-of-type {\n",
       "        vertical-align: middle;\n",
       "    }\n",
       "\n",
       "    .dataframe tbody tr th {\n",
       "        vertical-align: top;\n",
       "    }\n",
       "\n",
       "    .dataframe thead th {\n",
       "        text-align: right;\n",
       "    }\n",
       "</style>\n",
       "<table border=\"1\" class=\"dataframe\">\n",
       "  <thead>\n",
       "    <tr style=\"text-align: right;\">\n",
       "      <th></th>\n",
       "      <th>Balance</th>\n",
       "      <th>Main</th>\n",
       "      <th>Sub</th>\n",
       "    </tr>\n",
       "  </thead>\n",
       "  <tbody>\n",
       "    <tr>\n",
       "      <th>0</th>\n",
       "      <td>11.928220</td>\n",
       "      <td>Income</td>\n",
       "      <td>Revenue</td>\n",
       "    </tr>\n",
       "    <tr>\n",
       "      <th>1</th>\n",
       "      <td>72.524515</td>\n",
       "      <td>Income</td>\n",
       "      <td>Interest</td>\n",
       "    </tr>\n",
       "    <tr>\n",
       "      <th>2</th>\n",
       "      <td>28.274257</td>\n",
       "      <td>Other Income</td>\n",
       "      <td>Benefits</td>\n",
       "    </tr>\n",
       "    <tr>\n",
       "      <th>3</th>\n",
       "      <td>77.729235</td>\n",
       "      <td>Other Income</td>\n",
       "      <td>Insurance</td>\n",
       "    </tr>\n",
       "    <tr>\n",
       "      <th>4</th>\n",
       "      <td>50.004480</td>\n",
       "      <td>Expenses</td>\n",
       "      <td>Internet</td>\n",
       "    </tr>\n",
       "  </tbody>\n",
       "</table>\n",
       "</div>"
      ],
      "text/plain": [
       "     Balance          Main        Sub\n",
       "0  11.928220        Income    Revenue\n",
       "1  72.524515        Income   Interest\n",
       "2  28.274257  Other Income   Benefits\n",
       "3  77.729235  Other Income  Insurance\n",
       "4  50.004480      Expenses   Internet"
      ]
     },
     "execution_count": 102,
     "metadata": {},
     "output_type": "execute_result"
    }
   ],
   "source": [
    "df[['Main', 'Sub']] = df['Account'].str.split(\"|\", expand=True)\n",
    "df = df.drop(['Account'], axis = 1)\n",
    "df.head()"
   ]
  },
  {
   "cell_type": "markdown",
   "id": "fifteen-bottle",
   "metadata": {},
   "source": [
    "With this, we can already gain more information when compared to the previous dataset. For example, we can get the mean balance across all three main categories (income/other income/expenses) and that can be used to calculate profit (income - expenses)."
   ]
  },
  {
   "cell_type": "code",
   "execution_count": 103,
   "id": "agricultural-concentration",
   "metadata": {},
   "outputs": [
    {
     "name": "stdout",
     "output_type": "stream",
     "text": [
      "GroupBy Balance\n",
      "\n",
      "Main\n",
      "Expenses        53.608531\n",
      "Income          51.351330\n",
      "Other Income    49.837844\n",
      "Name: Balance, dtype: float64\n",
      "\n",
      " Potential Profit\n",
      "\n",
      "$-2.2572010579752373\n"
     ]
    }
   ],
   "source": [
    "groups = df.groupby('Main')['Balance'].mean()\n",
    "\n",
    "print(\"GroupBy Balance\\n\")\n",
    "print(groups)\n",
    "\n",
    "print(\"\\n Potential Profit\\n\")\n",
    "\n",
    "profit = groups['Income'] - groups['Expenses']\n",
    "\n",
    "print(f'${profit}')"
   ]
  },
  {
   "cell_type": "markdown",
   "id": "respected-there",
   "metadata": {},
   "source": [
    "However, we can potentially do better. Pandas has this thing called multi-hierarchy which allows us to represent the \"groupby\" above as columns. The syntax for creating a multihierarchy is shown below."
   ]
  },
  {
   "cell_type": "code",
   "execution_count": 104,
   "id": "direct-briefs",
   "metadata": {},
   "outputs": [
    {
     "data": {
      "text/html": [
       "<div>\n",
       "<style scoped>\n",
       "    .dataframe tbody tr th:only-of-type {\n",
       "        vertical-align: middle;\n",
       "    }\n",
       "\n",
       "    .dataframe tbody tr th {\n",
       "        vertical-align: top;\n",
       "    }\n",
       "\n",
       "    .dataframe thead th {\n",
       "        text-align: right;\n",
       "    }\n",
       "</style>\n",
       "<table border=\"1\" class=\"dataframe\">\n",
       "  <thead>\n",
       "    <tr style=\"text-align: right;\">\n",
       "      <th></th>\n",
       "      <th></th>\n",
       "      <th>Balance</th>\n",
       "    </tr>\n",
       "    <tr>\n",
       "      <th>Main</th>\n",
       "      <th>Sub</th>\n",
       "      <th></th>\n",
       "    </tr>\n",
       "  </thead>\n",
       "  <tbody>\n",
       "    <tr>\n",
       "      <th rowspan=\"5\" valign=\"top\">Other Income</th>\n",
       "      <th>Insurance</th>\n",
       "      <td>77.729235</td>\n",
       "    </tr>\n",
       "    <tr>\n",
       "      <th>Insurance</th>\n",
       "      <td>1.105609</td>\n",
       "    </tr>\n",
       "    <tr>\n",
       "      <th>Insurance</th>\n",
       "      <td>86.147098</td>\n",
       "    </tr>\n",
       "    <tr>\n",
       "      <th>Insurance</th>\n",
       "      <td>85.542745</td>\n",
       "    </tr>\n",
       "    <tr>\n",
       "      <th>Insurance</th>\n",
       "      <td>35.548542</td>\n",
       "    </tr>\n",
       "    <tr>\n",
       "      <th>...</th>\n",
       "      <th>...</th>\n",
       "      <td>...</td>\n",
       "    </tr>\n",
       "    <tr>\n",
       "      <th rowspan=\"5\" valign=\"top\">Expenses</th>\n",
       "      <th>Internet</th>\n",
       "      <td>74.207877</td>\n",
       "    </tr>\n",
       "    <tr>\n",
       "      <th>Internet</th>\n",
       "      <td>14.739378</td>\n",
       "    </tr>\n",
       "    <tr>\n",
       "      <th>Internet</th>\n",
       "      <td>54.684394</td>\n",
       "    </tr>\n",
       "    <tr>\n",
       "      <th>Internet</th>\n",
       "      <td>20.057720</td>\n",
       "    </tr>\n",
       "    <tr>\n",
       "      <th>Internet</th>\n",
       "      <td>58.087635</td>\n",
       "    </tr>\n",
       "  </tbody>\n",
       "</table>\n",
       "<p>150 rows × 1 columns</p>\n",
       "</div>"
      ],
      "text/plain": [
       "                          Balance\n",
       "Main         Sub                 \n",
       "Other Income Insurance  77.729235\n",
       "             Insurance   1.105609\n",
       "             Insurance  86.147098\n",
       "             Insurance  85.542745\n",
       "             Insurance  35.548542\n",
       "...                           ...\n",
       "Expenses     Internet   74.207877\n",
       "             Internet   14.739378\n",
       "             Internet   54.684394\n",
       "             Internet   20.057720\n",
       "             Internet   58.087635\n",
       "\n",
       "[150 rows x 1 columns]"
      ]
     },
     "execution_count": 104,
     "metadata": {},
     "output_type": "execute_result"
    }
   ],
   "source": [
    "df = df.sort_values(by=['Main', 'Sub'], ascending=False)\n",
    "df = df.set_index(['Main', 'Sub'])\n",
    "\n",
    "df.loc[df.index.get_level_values(0).unique().tolist()]"
   ]
  },
  {
   "cell_type": "markdown",
   "id": "emerging-process",
   "metadata": {},
   "source": [
    "Now, calculating profit becomes much much easier. "
   ]
  },
  {
   "cell_type": "code",
   "execution_count": 105,
   "id": "noted-verse",
   "metadata": {},
   "outputs": [
    {
     "data": {
      "text/html": [
       "<div>\n",
       "<style scoped>\n",
       "    .dataframe tbody tr th:only-of-type {\n",
       "        vertical-align: middle;\n",
       "    }\n",
       "\n",
       "    .dataframe tbody tr th {\n",
       "        vertical-align: top;\n",
       "    }\n",
       "\n",
       "    .dataframe thead th {\n",
       "        text-align: right;\n",
       "    }\n",
       "</style>\n",
       "<table border=\"1\" class=\"dataframe\">\n",
       "  <thead>\n",
       "    <tr style=\"text-align: right;\">\n",
       "      <th></th>\n",
       "      <th>Balance</th>\n",
       "    </tr>\n",
       "    <tr>\n",
       "      <th>Sub</th>\n",
       "      <th></th>\n",
       "    </tr>\n",
       "  </thead>\n",
       "  <tbody>\n",
       "    <tr>\n",
       "      <th>Interest</th>\n",
       "      <td>NaN</td>\n",
       "    </tr>\n",
       "    <tr>\n",
       "      <th>Interest</th>\n",
       "      <td>NaN</td>\n",
       "    </tr>\n",
       "    <tr>\n",
       "      <th>Interest</th>\n",
       "      <td>NaN</td>\n",
       "    </tr>\n",
       "    <tr>\n",
       "      <th>Interest</th>\n",
       "      <td>NaN</td>\n",
       "    </tr>\n",
       "    <tr>\n",
       "      <th>Interest</th>\n",
       "      <td>NaN</td>\n",
       "    </tr>\n",
       "    <tr>\n",
       "      <th>...</th>\n",
       "      <td>...</td>\n",
       "    </tr>\n",
       "    <tr>\n",
       "      <th>Revenue</th>\n",
       "      <td>NaN</td>\n",
       "    </tr>\n",
       "    <tr>\n",
       "      <th>Revenue</th>\n",
       "      <td>NaN</td>\n",
       "    </tr>\n",
       "    <tr>\n",
       "      <th>Revenue</th>\n",
       "      <td>NaN</td>\n",
       "    </tr>\n",
       "    <tr>\n",
       "      <th>Revenue</th>\n",
       "      <td>NaN</td>\n",
       "    </tr>\n",
       "    <tr>\n",
       "      <th>Revenue</th>\n",
       "      <td>NaN</td>\n",
       "    </tr>\n",
       "  </tbody>\n",
       "</table>\n",
       "<p>100 rows × 1 columns</p>\n",
       "</div>"
      ],
      "text/plain": [
       "          Balance\n",
       "Sub              \n",
       "Interest      NaN\n",
       "Interest      NaN\n",
       "Interest      NaN\n",
       "Interest      NaN\n",
       "Interest      NaN\n",
       "...           ...\n",
       "Revenue       NaN\n",
       "Revenue       NaN\n",
       "Revenue       NaN\n",
       "Revenue       NaN\n",
       "Revenue       NaN\n",
       "\n",
       "[100 rows x 1 columns]"
      ]
     },
     "execution_count": 105,
     "metadata": {},
     "output_type": "execute_result"
    }
   ],
   "source": [
    "df.loc['Income'] - df.loc['Expenses']"
   ]
  },
  {
   "cell_type": "code",
   "execution_count": null,
   "id": "needed-amino",
   "metadata": {},
   "outputs": [],
   "source": []
  }
 ],
 "metadata": {
  "kernelspec": {
   "display_name": "Python 3",
   "language": "python",
   "name": "python3"
  },
  "language_info": {
   "codemirror_mode": {
    "name": "ipython",
    "version": 3
   },
   "file_extension": ".py",
   "mimetype": "text/x-python",
   "name": "python",
   "nbconvert_exporter": "python",
   "pygments_lexer": "ipython3",
   "version": "3.9.2"
  }
 },
 "nbformat": 4,
 "nbformat_minor": 5
}
