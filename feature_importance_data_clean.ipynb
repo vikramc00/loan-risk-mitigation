{
 "cells": [
  {
   "cell_type": "code",
   "execution_count": null,
   "metadata": {},
   "outputs": [],
   "source": [
    "!pip install ipykernel\n",
    "!pip install pandas\n",
    "\n",
    "import pandas as pd"
   ]
  },
  {
   "cell_type": "code",
   "execution_count": null,
   "metadata": {},
   "outputs": [],
   "source": [
    "def get_data(f, cid):\n",
    "    data = pd.read_csv(\"C:/Users/natha/Downloads/\" + f)\n",
    "    # data.columns = data.iloc[0]\n",
    "    # data = data.drop(0)\n",
    "    #print(data)\n",
    "    data = data[data['customer_id'] == cid]\n",
    "\n",
    "    return data"
   ]
  },
  {
   "cell_type": "code",
   "execution_count": null,
   "metadata": {},
   "outputs": [],
   "source": [
    "CUSTOMER_ID = 4522\n",
    "balance_df = get_data(\"balance_sheet_view.csv\", CUSTOMER_ID)\n",
    "profit_df = get_data(\"profit_loss_view.csv\", CUSTOMER_ID)"
   ]
  },
  {
   "cell_type": "code",
   "execution_count": null,
   "metadata": {},
   "outputs": [],
   "source": [
    "balance_df.head()"
   ]
  },
  {
   "cell_type": "code",
   "execution_count": null,
   "metadata": {},
   "outputs": [],
   "source": [
    "profit_df.head()"
   ]
  },
  {
   "cell_type": "code",
   "execution_count": null,
   "metadata": {},
   "outputs": [],
   "source": [
    "cols = ['Main', 'Sub1', 'Sub2']\n",
    "profit_df[cols] = profit_df['account_name'].str.split(\"|\", expand=True)\n",
    "\n",
    "cols = ['Main', 'Sub1', 'Sub2', 'Sub3', 'Sub5']\n",
    "balance_df[cols] = balance_df['account_name'].str.split(\"|\", expand=True)"
   ]
  },
  {
   "cell_type": "code",
   "execution_count": null,
   "metadata": {},
   "outputs": [],
   "source": [
    "print(profit_df[profit_df['Main'] == \"Expenses\"])"
   ]
  },
  {
   "cell_type": "code",
   "execution_count": null,
   "metadata": {},
   "outputs": [],
   "source": [
    "def net_profit_margin(df):\n",
    "  revenue = pd.to_numeric(df[df['Sub1'] == 'Revenue']['balance']).mean()\n",
    "  expenses = pd.to_numeric(df[df['Main'] == 'Expenses']['balance']).mean()\n",
    "  if revenue == 0:\n",
    "    return 0\n",
    "  return (revenue - expenses) / (revenue)"
   ]
  },
  {
   "cell_type": "code",
   "execution_count": 33,
   "metadata": {},
   "outputs": [],
   "source": [
    "def current_ratio(df) :\n",
    "    current_assets = pd.to_numeric(df[df['Sub1'] == 'Current Assets']['balance']).mean()\n",
    "    current_liabilities = pd.to_numeric(df[df['Sub1'] == 'Current Liabilities']['balance']).mean()\n",
    "    if current_assets == 0:\n",
    "        return 0\n",
    "    return current_assets / current_liabilities"
   ]
  },
  {
   "cell_type": "code",
   "execution_count": 39,
   "metadata": {},
   "outputs": [],
   "source": [
    "pd_grouping = profit_df.groupby('period_date')\n",
    "pd_out = pd.DataFrame()\n",
    "out['Net-Profit-Margin'] = pd_grouping.apply(lambda x: net_profit_margin(x))"
   ]
  },
  {
   "cell_type": "code",
   "execution_count": 40,
   "metadata": {},
   "outputs": [],
   "source": [
    "bs_grouping = balance_df.groupby('period_date')\n",
    "bs_out = pd.DataFrame()\n",
    "out['Current-Ratio'] = bs_grouping.apply(lambda x: current_ratio(x))\n"
   ]
  },
  {
   "cell_type": "code",
   "execution_count": 41,
   "metadata": {},
   "outputs": [
    {
     "data": {
      "text/html": [
       "<div>\n",
       "<style scoped>\n",
       "    .dataframe tbody tr th:only-of-type {\n",
       "        vertical-align: middle;\n",
       "    }\n",
       "\n",
       "    .dataframe tbody tr th {\n",
       "        vertical-align: top;\n",
       "    }\n",
       "\n",
       "    .dataframe thead th {\n",
       "        text-align: right;\n",
       "    }\n",
       "</style>\n",
       "<table border=\"1\" class=\"dataframe\">\n",
       "  <thead>\n",
       "    <tr style=\"text-align: right;\">\n",
       "      <th></th>\n",
       "      <th>Net-Profit-Margin</th>\n",
       "      <th>Current-Ratio</th>\n",
       "    </tr>\n",
       "    <tr>\n",
       "      <th>period_date</th>\n",
       "      <th></th>\n",
       "      <th></th>\n",
       "    </tr>\n",
       "  </thead>\n",
       "  <tbody>\n",
       "    <tr>\n",
       "      <th>2012-11-30</th>\n",
       "      <td>0.0</td>\n",
       "      <td>0.000000</td>\n",
       "    </tr>\n",
       "    <tr>\n",
       "      <th>2012-12-31</th>\n",
       "      <td>0.0</td>\n",
       "      <td>0.000000</td>\n",
       "    </tr>\n",
       "    <tr>\n",
       "      <th>2013-01-31</th>\n",
       "      <td>0.0</td>\n",
       "      <td>0.000000</td>\n",
       "    </tr>\n",
       "    <tr>\n",
       "      <th>2013-02-28</th>\n",
       "      <td>0.0</td>\n",
       "      <td>0.000000</td>\n",
       "    </tr>\n",
       "    <tr>\n",
       "      <th>2013-03-31</th>\n",
       "      <td>0.0</td>\n",
       "      <td>0.000000</td>\n",
       "    </tr>\n",
       "    <tr>\n",
       "      <th>...</th>\n",
       "      <td>...</td>\n",
       "      <td>...</td>\n",
       "    </tr>\n",
       "    <tr>\n",
       "      <th>2020-07-31</th>\n",
       "      <td>NaN</td>\n",
       "      <td>1.770979</td>\n",
       "    </tr>\n",
       "    <tr>\n",
       "      <th>2020-08-31</th>\n",
       "      <td>NaN</td>\n",
       "      <td>2.025511</td>\n",
       "    </tr>\n",
       "    <tr>\n",
       "      <th>2020-09-30</th>\n",
       "      <td>NaN</td>\n",
       "      <td>2.833540</td>\n",
       "    </tr>\n",
       "    <tr>\n",
       "      <th>2020-10-31</th>\n",
       "      <td>NaN</td>\n",
       "      <td>1.429956</td>\n",
       "    </tr>\n",
       "    <tr>\n",
       "      <th>2020-11-30</th>\n",
       "      <td>NaN</td>\n",
       "      <td>1.510388</td>\n",
       "    </tr>\n",
       "  </tbody>\n",
       "</table>\n",
       "<p>98 rows × 2 columns</p>\n",
       "</div>"
      ],
      "text/plain": [
       "             Net-Profit-Margin  Current-Ratio\n",
       "period_date                                  \n",
       "2012-11-30                 0.0       0.000000\n",
       "2012-12-31                 0.0       0.000000\n",
       "2013-01-31                 0.0       0.000000\n",
       "2013-02-28                 0.0       0.000000\n",
       "2013-03-31                 0.0       0.000000\n",
       "...                        ...            ...\n",
       "2020-07-31                 NaN       1.770979\n",
       "2020-08-31                 NaN       2.025511\n",
       "2020-09-30                 NaN       2.833540\n",
       "2020-10-31                 NaN       1.429956\n",
       "2020-11-30                 NaN       1.510388\n",
       "\n",
       "[98 rows x 2 columns]"
      ]
     },
     "execution_count": 41,
     "metadata": {},
     "output_type": "execute_result"
    }
   ],
   "source": [
    "out"
   ]
  },
  {
   "cell_type": "code",
   "execution_count": 47,
   "metadata": {},
   "outputs": [
    {
     "name": "stdout",
     "output_type": "stream",
     "text": [
      "55\n"
     ]
    }
   ],
   "source": [
    "print(out['Net-Profit-Margin'].nunique())"
   ]
  },
  {
   "cell_type": "code",
   "execution_count": null,
   "metadata": {},
   "outputs": [],
   "source": []
  },
  {
   "cell_type": "code",
   "execution_count": null,
   "metadata": {},
   "outputs": [],
   "source": []
  },
  {
   "cell_type": "code",
   "execution_count": null,
   "metadata": {},
   "outputs": [],
   "source": []
  }
 ],
 "metadata": {
  "interpreter": {
   "hash": "d835b9d6547198496337f4d2de04abf3395832a8b4aee7b55cf3102d3ef3dae9"
  },
  "kernelspec": {
   "display_name": "Python 3.8.8 64-bit ('base': conda)",
   "name": "python3"
  },
  "language_info": {
   "codemirror_mode": {
    "name": "ipython",
    "version": 3
   },
   "file_extension": ".py",
   "mimetype": "text/x-python",
   "name": "python",
   "nbconvert_exporter": "python",
   "pygments_lexer": "ipython3",
   "version": "3.8.8"
  },
  "orig_nbformat": 4
 },
 "nbformat": 4,
 "nbformat_minor": 2
}
